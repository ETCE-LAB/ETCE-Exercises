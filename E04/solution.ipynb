{
 "cells": [
  {
   "cell_type": "markdown",
   "metadata": {},
   "source": [
    "<span style=\"font-size:1.15em;font-weight:bold\">\n",
    "Your whole solution to the exercise should be implemented in this\n",
    "file.\n",
    "\n",
    "Be sure to read all comments in this file</span>\n",
    "\n",
    "Your task is to first implement the functions `parse_json`,\n",
    "`parse_timestamp`, `get_uuid`, `parse_bson`, `parse_xml`, and\n",
    "`parse_volts` based on the information defined in the function\n",
    "docstring.\n",
    "\n",
    "Finally implement the main `solution` function.\n",
    "\n",
    "Only the libraries mentioned in the Pipfile (in addition to the python\n",
    "standard libraries) will be available in our grading setup\n",
    "\n"
   ]
  },
  {
   "cell_type": "code",
   "execution_count": 1,
   "metadata": {},
   "outputs": [
    {
     "name": "stdout",
     "output_type": "stream",
     "text": [
      "Requirement already satisfied: bson in /opt/conda/lib/python3.11/site-packages (0.5.10)\n",
      "Requirement already satisfied: python-dateutil>=2.4.0 in /opt/conda/lib/python3.11/site-packages (from bson) (2.8.2)\n",
      "Requirement already satisfied: six>=1.9.0 in /opt/conda/lib/python3.11/site-packages (from bson) (1.16.0)\n",
      "Note: you may need to restart the kernel to use updated packages.\n"
     ]
    }
   ],
   "source": [
    "%pip install bson"
   ]
  },
  {
   "cell_type": "code",
   "execution_count": 2,
   "metadata": {},
   "outputs": [],
   "source": [
    "import ETCE.GroupA.Ex04.weather_data as wd  # Do not remove this import\n",
    "from pprint import pprint"
   ]
  },
  {
   "cell_type": "code",
   "execution_count": 3,
   "metadata": {},
   "outputs": [],
   "source": [
    "import json\n",
    "import bson\n",
    "import xml.etree.ElementTree as ET\n",
    "import datetime\n",
    "import pandas as pd\n",
    "import uuid"
   ]
  },
  {
   "cell_type": "markdown",
   "metadata": {},
   "source": [
    "Implement this function to parse the json weather data here,\n",
    "and return a dictionary as follows:\n",
    "\n",
    "\n",
    "    {'temp': ...,\n",
    "     'clouds', ...,\n",
    "     'wind_speed': ...,\n",
    "     'wind_deg': ...,\n",
    "     'wind_gust': ...,\n",
    "     'rain': ...\n",
    "    }\n"
   ]
  },
  {
   "cell_type": "code",
   "execution_count": 4,
   "metadata": {},
   "outputs": [],
   "source": [
    "def parse_json(string_returned) -> dict:\n",
    "    # return my_dict\n",
    "    pass"
   ]
  },
  {
   "cell_type": "markdown",
   "metadata": {},
   "source": [
    "Implement this function, to parse the string timestamp 'yyyy-mm-dd hh:mm:ss.ms CEST' \n",
    "to a UNIX timestamp in UTC"
   ]
  },
  {
   "cell_type": "code",
   "execution_count": 5,
   "metadata": {},
   "outputs": [],
   "source": [
    "def parse_timestamp(string_timestamp) -> int:\n",
    "    # return int(...)\n",
    "    pass"
   ]
  },
  {
   "cell_type": "markdown",
   "metadata": {},
   "source": [
    "Implement this function to get a UUID using the uuid module"
   ]
  },
  {
   "cell_type": "code",
   "execution_count": 6,
   "metadata": {},
   "outputs": [],
   "source": [
    "def get_uuid() -> str:\n",
    "    # return str(...)\n",
    "    pass"
   ]
  },
  {
   "cell_type": "markdown",
   "metadata": {},
   "source": [
    "Implement this function to parse the bson weather data here,\n",
    "and return a dictionary as follows:\n",
    "\n",
    "\n",
    "    {'temp': ...,\n",
    "     'clouds', ...,\n",
    "     'wind_speed': ...,\n",
    "     'wind_deg': ...,\n",
    "     'wind_gust': ...,\n",
    "     'rain': ...\n",
    "    }"
   ]
  },
  {
   "cell_type": "code",
   "execution_count": 7,
   "metadata": {},
   "outputs": [],
   "source": [
    "def parse_bson(string_returned) -> dict:\n",
    "    # return my_dict\n",
    "    pass"
   ]
  },
  {
   "cell_type": "markdown",
   "metadata": {},
   "source": [
    "Implement this function to parse the xml weather data here,\n",
    "and return a dictionary as follows:\n",
    "\n",
    "\n",
    "    {'temp': ...,\n",
    "     'clouds', ...,\n",
    "     'wind_speed': ...,\n",
    "     'wind_deg': ...,\n",
    "     'wind_gust': ...,\n",
    "     'rain': ...\n",
    "    }"
   ]
  },
  {
   "cell_type": "code",
   "execution_count": 8,
   "metadata": {},
   "outputs": [],
   "source": [
    "def parse_xml(string_returned) -> dict:\n",
    "    # return my_dict\n",
    "    pass"
   ]
  },
  {
   "cell_type": "markdown",
   "metadata": {},
   "source": [
    "Implement this function to parse the xml voltage data from the\n",
    "TMP36 sensor here, convert the voltage to temperature in °C and\n",
    "return a dictionary as follows:    \n",
    "\n",
    "{'temp': ....}\n",
    "\n",
    "Hint: Search for a datasheet for a TMP36 sensor that shows the\n",
    "relationship between a voltage reading from the sensor and the\n",
    "temperature being sensed."
   ]
  },
  {
   "cell_type": "code",
   "execution_count": 9,
   "metadata": {},
   "outputs": [],
   "source": [
    "def parse_volts(string_returned)-> dict:\n",
    "    # return my\n",
    "    pass"
   ]
  },
  {
   "cell_type": "markdown",
   "metadata": {},
   "source": [
    "This function should return the solution to E03.\n",
    "\n",
    "This function should return a dictionary as follows:\n",
    "\n",
    "    {0 : {\"uuid\" : \"some-uuid\",   Should be unique for every entry\n",
    "          \"timestamp\": 00000000,  Some valid UNIX timestamp\n",
    "           \"temp\":5.33,\n",
    "           \"clouds\":100.0,\n",
    "           \"wind_speed\":2.48,\n",
    "           \"wind_deg\":31.0,\n",
    "           \"wind_gust\":4.1,\n",
    "           \"rain\":1.54\n",
    "           } ,\n",
    "     1 : {...},\n",
    "     .\n",
    "     .\n",
    "     .\n",
    "     n : {...}\n",
    "     }\n",
    "\n",
    "    where n=total no of timestamps\n",
    "\n",
    "    Remember that you are combining data from various sources into one\n",
    "    dict for each timestamp.\n",
    "\n",
    "    When new data from multiple sources is available for the same\n",
    "    field in the data structure, compute the average. For example, all\n",
    "    sources give you temperature data, so you must return the average\n",
    "    temperature for each timestamp.\n",
    "\n",
    "    Also remember that you need to convert the voltage values for the\n",
    "    TMP36 sensor into temperature in °C before averaging with the\n",
    "    other temperature values.\n",
    "\n",
    "    Side note: Some cloudiness (%) data might go above 100 or below\n",
    "    0. You can simply ignore this mistake and proceed assuming a value\n",
    "    like 100.05 is correct."
   ]
  },
  {
   "cell_type": "code",
   "execution_count": 10,
   "metadata": {},
   "outputs": [],
   "source": [
    "def solution()-> dict:\n",
    "    # You can iteratively populate the solution_dict\n",
    "    solution_dict = {}\n",
    "\n",
    "    while(True):\n",
    "        try:\n",
    "            ret, ts = wd.get_next()\n",
    "            # This function simulates an API query to get the weather\n",
    "            # data.\n",
    "\n",
    "            # `ret` is a tuple containing weather data from 5 sources,\n",
    "            # (Source 1, Source 2, Source 3, Source 4, Source 5) at\n",
    "            # timestamp `ts`\n",
    "\n",
    "            # ts is the string timestamp when the data was recorded.\n",
    "\n",
    "            # The structure of `ret` is self-documented, and contains\n",
    "            # all the info you need to parse the data.\n",
    "\n",
    "            # You can read the data returned by the API as follows\n",
    "            # pprint(ret[0][\"description\"])\n",
    "            # print(type(ret[0][\"data\"]))\n",
    "\n",
    "        except Exception as E:\n",
    "            print(E)\n",
    "            break\n",
    "\n",
    "    return solution_dict"
   ]
  },
  {
   "cell_type": "code",
   "execution_count": 11,
   "metadata": {},
   "outputs": [
    {
     "name": "stdout",
     "output_type": "stream",
     "text": [
      "No more weather data\n",
      "E04 task failed to run:\n"
     ]
    },
    {
     "ename": "FileNotFoundError",
     "evalue": "[Errno 2] No such file or directory: 'ga.sol.json'",
     "output_type": "error",
     "traceback": [
      "\u001b[0;31m---------------------------------------------------------------------------\u001b[0m",
      "\u001b[0;31mFileNotFoundError\u001b[0m                         Traceback (most recent call last)",
      "Cell \u001b[0;32mIn[11], line 2\u001b[0m\n\u001b[1;32m      1\u001b[0m \u001b[38;5;28;01mfrom\u001b[39;00m \u001b[38;5;21;01mdriver\u001b[39;00m \u001b[38;5;28;01mimport\u001b[39;00m evaluate\n\u001b[0;32m----> 2\u001b[0m \u001b[43mevaluate\u001b[49m\u001b[43m(\u001b[49m\u001b[43msolution\u001b[49m\u001b[43m,\u001b[49m\u001b[43m \u001b[49m\u001b[43mparse_json\u001b[49m\u001b[43m,\u001b[49m\u001b[43m \u001b[49m\u001b[43mparse_bson\u001b[49m\u001b[43m,\u001b[49m\u001b[43m \u001b[49m\u001b[43mparse_xml\u001b[49m\u001b[43m,\u001b[49m\u001b[43m \u001b[49m\u001b[43mparse_timestamp\u001b[49m\u001b[43m,\u001b[49m\u001b[43m \u001b[49m\u001b[43mget_uuid\u001b[49m\u001b[43m,\u001b[49m\u001b[43m \u001b[49m\u001b[43mparse_volts\u001b[49m\u001b[43m)\u001b[49m\n",
      "File \u001b[0;32m~/Test/ETCE-Exercises/E04/driver.py:368\u001b[0m, in \u001b[0;36mevaluate\u001b[0;34m(solution, parse_json, parse_bson, parse_xml, parse_timestamp, get_uuid, parse_volts)\u001b[0m\n\u001b[1;32m    367\u001b[0m \u001b[38;5;28;01mdef\u001b[39;00m \u001b[38;5;21mevaluate\u001b[39m(solution, parse_json, parse_bson, parse_xml, parse_timestamp, get_uuid, parse_volts):\n\u001b[0;32m--> 368\u001b[0m     e \u001b[38;5;241m=\u001b[39m \u001b[43mevaluation\u001b[49m\u001b[43m(\u001b[49m\u001b[43msolution\u001b[49m\u001b[43m,\u001b[49m\u001b[43m \u001b[49m\u001b[43mparse_json\u001b[49m\u001b[43m,\u001b[49m\u001b[43m \u001b[49m\u001b[43mparse_bson\u001b[49m\u001b[43m,\u001b[49m\u001b[43m \u001b[49m\u001b[43mparse_xml\u001b[49m\u001b[43m,\u001b[49m\u001b[43m \u001b[49m\u001b[43mparse_timestamp\u001b[49m\u001b[43m,\u001b[49m\u001b[43m \u001b[49m\u001b[43mget_uuid\u001b[49m\u001b[43m,\u001b[49m\u001b[43m \u001b[49m\u001b[43mparse_volts\u001b[49m\u001b[43m)\u001b[49m\n\u001b[1;32m    370\u001b[0m     \u001b[38;5;28mprint\u001b[39m(\u001b[38;5;124mf\u001b[39m\u001b[38;5;124m\"\u001b[39m\u001b[38;5;124mGrade = \u001b[39m\u001b[38;5;132;01m{\u001b[39;00me[\u001b[38;5;241m0\u001b[39m]\u001b[38;5;132;01m}\u001b[39;00m\u001b[38;5;124m%\u001b[39m\u001b[38;5;124m\"\u001b[39m)\n\u001b[1;32m    372\u001b[0m     \u001b[38;5;28;01mif\u001b[39;00m e[\u001b[38;5;241m0\u001b[39m] \u001b[38;5;241m==\u001b[39m \u001b[38;5;241m100\u001b[39m:\n",
      "File \u001b[0;32m~/Test/ETCE-Exercises/E04/driver.py:362\u001b[0m, in \u001b[0;36mevaluation\u001b[0;34m(solution, parse_json, parse_bson, parse_xml, parse_timestamp, get_uuid, parse_volts)\u001b[0m\n\u001b[1;32m    360\u001b[0m \u001b[38;5;28;01mexcept\u001b[39;00m \u001b[38;5;167;01mException\u001b[39;00m \u001b[38;5;28;01mas\u001b[39;00m E:\n\u001b[1;32m    361\u001b[0m     \u001b[38;5;28mprint\u001b[39m(\u001b[38;5;124m\"\u001b[39m\u001b[38;5;124mE04 task failed to run:\u001b[39m\u001b[38;5;124m\"\u001b[39m)\n\u001b[0;32m--> 362\u001b[0m     \u001b[38;5;28;01mraise\u001b[39;00m E\n\u001b[1;32m    364\u001b[0m \u001b[38;5;28;01mreturn\u001b[39;00m (evaluation_A \u001b[38;5;241m*\u001b[39m \u001b[38;5;241m100\u001b[39m,)\n",
      "File \u001b[0;32m~/Test/ETCE-Exercises/E04/driver.py:357\u001b[0m, in \u001b[0;36mevaluation\u001b[0;34m(solution, parse_json, parse_bson, parse_xml, parse_timestamp, get_uuid, parse_volts)\u001b[0m\n\u001b[1;32m    355\u001b[0m evaluation_A \u001b[38;5;241m=\u001b[39m \u001b[38;5;241m0\u001b[39m\n\u001b[1;32m    356\u001b[0m \u001b[38;5;28;01mtry\u001b[39;00m:\n\u001b[0;32m--> 357\u001b[0m     \u001b[38;5;28;01mfor\u001b[39;00m success, weight \u001b[38;5;129;01min\u001b[39;00m \u001b[38;5;28mzip\u001b[39m(\u001b[43mcheck_solution_A\u001b[49m\u001b[43m(\u001b[49m\u001b[43msolution\u001b[49m\u001b[43m,\u001b[49m\u001b[43m \u001b[49m\u001b[43mparse_json\u001b[49m\u001b[43m,\u001b[49m\u001b[43m \u001b[49m\u001b[43mparse_bson\u001b[49m\u001b[43m,\u001b[49m\u001b[43m \u001b[49m\u001b[43mparse_xml\u001b[49m\u001b[43m,\u001b[49m\u001b[43m \u001b[49m\u001b[43mparse_timestamp\u001b[49m\u001b[43m,\u001b[49m\u001b[43m \u001b[49m\u001b[43mget_uuid\u001b[49m\u001b[43m,\u001b[49m\u001b[43m \u001b[49m\u001b[43mparse_volts\u001b[49m\u001b[43m)\u001b[49m, weighting_a):\n\u001b[1;32m    358\u001b[0m         \u001b[38;5;28;01mif\u001b[39;00m success:\n\u001b[1;32m    359\u001b[0m             evaluation_A \u001b[38;5;241m+\u001b[39m\u001b[38;5;241m=\u001b[39m weight\n",
      "File \u001b[0;32m~/Test/ETCE-Exercises/E04/driver.py:157\u001b[0m, in \u001b[0;36mcheck_solution_A\u001b[0;34m(solution, parse_json, parse_bson, parse_xml, parse_timestamp, get_uuid, parse_volts)\u001b[0m\n\u001b[1;32m    155\u001b[0m sol_a \u001b[38;5;241m=\u001b[39m solution()\n\u001b[1;32m    156\u001b[0m sol_a_json \u001b[38;5;241m=\u001b[39m \u001b[38;5;28;01mNone\u001b[39;00m\n\u001b[0;32m--> 157\u001b[0m \u001b[38;5;28;01mwith\u001b[39;00m \u001b[38;5;28;43mopen\u001b[39;49m\u001b[43m(\u001b[49m\u001b[38;5;124;43m\"\u001b[39;49m\u001b[38;5;124;43mga.sol.json\u001b[39;49m\u001b[38;5;124;43m\"\u001b[39;49m\u001b[43m)\u001b[49m \u001b[38;5;28;01mas\u001b[39;00m jsonfile:\n\u001b[1;32m    158\u001b[0m     sol_a_json \u001b[38;5;241m=\u001b[39m ETCEDict(json\u001b[38;5;241m.\u001b[39mloads(jsonfile\u001b[38;5;241m.\u001b[39mread()))\n\u001b[1;32m    159\u001b[0m     \u001b[38;5;66;03m# This file contains the expected solution_dict expected\u001b[39;00m\n",
      "\u001b[0;31mFileNotFoundError\u001b[0m: [Errno 2] No such file or directory: 'ga.sol.json'"
     ]
    }
   ],
   "source": [
    "from driver import evaluate\n",
    "evaluate(solution, parse_json, parse_bson, parse_xml, parse_timestamp, get_uuid, parse_volts)"
   ]
  },
  {
   "cell_type": "code",
   "execution_count": null,
   "metadata": {},
   "outputs": [],
   "source": []
  },
  {
   "cell_type": "code",
   "execution_count": null,
   "metadata": {},
   "outputs": [],
   "source": []
  }
 ],
 "metadata": {
  "kernelspec": {
   "display_name": "Python 3 (ipykernel)",
   "language": "python",
   "name": "python3"
  },
  "language_info": {
   "codemirror_mode": {
    "name": "ipython",
    "version": 3
   },
   "file_extension": ".py",
   "mimetype": "text/x-python",
   "name": "python",
   "nbconvert_exporter": "python",
   "pygments_lexer": "ipython3",
   "version": "3.11.7"
  }
 },
 "nbformat": 4,
 "nbformat_minor": 4
}
