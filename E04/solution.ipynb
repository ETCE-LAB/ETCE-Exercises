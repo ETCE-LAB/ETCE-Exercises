{
 "cells": [
  {
   "cell_type": "markdown",
   "metadata": {},
   "source": [
    "<span style=\"font-size:1.15em;font-weight:bold\">\n",
    "Your whole solution to the exercise should be implemented in this\n",
    "file.\n",
    "\n",
    "Be sure to read all comments in this file</span>\n",
    "\n",
    "Your task is to first implement the functions `parse_json`,\n",
    "`parse_timestamp`, `get_uuid`, `parse_bson`, `parse_xml`, and\n",
    "`parse_volts` based on the information defined in the function\n",
    "docstring.\n",
    "\n",
    "Finally implement the main `solution` function.\n",
    "\n",
    "Only the libraries mentioned in the Pipfile (in addition to the python\n",
    "standard libraries) will be available in our grading setup\n",
    "\n"
   ]
  },
  {
   "cell_type": "code",
   "execution_count": null,
   "metadata": {},
   "outputs": [],
   "source": [
    "import ETCE.GroupA.Ex03.weather_data as wd  # Do not remove this import\n",
    "from pprint import pprint"
   ]
  },
  {
   "cell_type": "code",
   "execution_count": null,
   "metadata": {},
   "outputs": [],
   "source": [
    "import json\n",
    "import bson\n",
    "import xml.etree.ElementTree as ET\n",
    "import datetime\n",
    "import pandas as pd\n",
    "import uuid"
   ]
  },
  {
   "cell_type": "markdown",
   "metadata": {},
   "source": [
    "Implement this function to parse the json weather data here,\n",
    "and return a dictionary as follows:\n",
    "\n",
    "\n",
    "    {'temp': ...,\n",
    "     'clouds', ...,\n",
    "     'wind_speed': ...,\n",
    "     'wind_deg': ...,\n",
    "     'wind_gust': ...,\n",
    "     'rain': ...\n",
    "    }\n"
   ]
  },
  {
   "cell_type": "code",
   "execution_count": null,
   "metadata": {},
   "outputs": [],
   "source": [
    "def parse_json(string_returned) -> dict:\n",
    "    # return my_dict\n",
    "    pass"
   ]
  },
  {
   "cell_type": "markdown",
   "metadata": {},
   "source": [
    "Implement this function, to parse the string timestamp 'yyyy-mm-dd hh:mm:ss.ms CEST' \n",
    "to a UNIX timestamp in UTC"
   ]
  },
  {
   "cell_type": "code",
   "execution_count": null,
   "metadata": {},
   "outputs": [],
   "source": [
    "def parse_timestamp(string_timestamp) -> int:\n",
    "    # return int(...)\n",
    "    pass"
   ]
  },
  {
   "cell_type": "markdown",
   "metadata": {},
   "source": [
    "Implement this function to get a UUID using the uuid module"
   ]
  },
  {
   "cell_type": "code",
   "execution_count": null,
   "metadata": {},
   "outputs": [],
   "source": [
    "def get_uuid() -> str:\n",
    "    # return str(...)\n",
    "    pass"
   ]
  },
  {
   "cell_type": "markdown",
   "metadata": {},
   "source": [
    "Implement this function to parse the bson weather data here,\n",
    "and return a dictionary as follows:\n",
    "\n",
    "\n",
    "    {'temp': ...,\n",
    "     'clouds', ...,\n",
    "     'wind_speed': ...,\n",
    "     'wind_deg': ...,\n",
    "     'wind_gust': ...,\n",
    "     'rain': ...\n",
    "    }"
   ]
  },
  {
   "cell_type": "code",
   "execution_count": null,
   "metadata": {},
   "outputs": [],
   "source": [
    "def parse_bson(string_returned) -> dict:\n",
    "    # return my_dict\n",
    "    pass"
   ]
  },
  {
   "cell_type": "markdown",
   "metadata": {},
   "source": [
    "Implement this function to parse the xml weather data here,\n",
    "and return a dictionary as follows:\n",
    "\n",
    "\n",
    "    {'temp': ...,\n",
    "     'clouds', ...,\n",
    "     'wind_speed': ...,\n",
    "     'wind_deg': ...,\n",
    "     'wind_gust': ...,\n",
    "     'rain': ...\n",
    "    }"
   ]
  },
  {
   "cell_type": "code",
   "execution_count": null,
   "metadata": {},
   "outputs": [],
   "source": [
    "def parse_xml(string_returned) -> dict:\n",
    "    # return my_dict\n",
    "    pass"
   ]
  },
  {
   "cell_type": "markdown",
   "metadata": {},
   "source": [
    "Implement this function to parse the xml voltage data from the\n",
    "TMP36 sensor here, convert the voltage to temperature in °C and\n",
    "return a dictionary as follows:    \n",
    "\n",
    "{'temp': ....}\n",
    "\n",
    "Hint: Search for a datasheet for a TMP36 sensor that shows the\n",
    "relationship between a voltage reading from the sensor and the\n",
    "temperature being sensed."
   ]
  },
  {
   "cell_type": "code",
   "execution_count": null,
   "metadata": {},
   "outputs": [],
   "source": [
    "def parse_volts(string_returned)-> dict:\n",
    "    # return my\n",
    "    pass"
   ]
  },
  {
   "cell_type": "markdown",
   "metadata": {},
   "source": [
    "This function should return the solution to E03.\n",
    "\n",
    "This function should return a dictionary as follows:\n",
    "\n",
    "    {0 : {\"uuid\" : \"some-uuid\",   Should be unique for every entry\n",
    "          \"timestamp\": 00000000,  Some valid UNIX timestamp\n",
    "           \"temp\":5.33,\n",
    "           \"clouds\":100.0,\n",
    "           \"wind_speed\":2.48,\n",
    "           \"wind_deg\":31.0,\n",
    "           \"wind_gust\":4.1,\n",
    "           \"rain\":1.54\n",
    "           } ,\n",
    "     1 : {...},\n",
    "     .\n",
    "     .\n",
    "     .\n",
    "     n : {...}\n",
    "     }\n",
    "\n",
    "    where n=total no of timestamps\n",
    "\n",
    "    Remember that you are combining data from various sources into one\n",
    "    dict for each timestamp.\n",
    "\n",
    "    When new data from multiple sources is available for the same\n",
    "    field in the data structure, compute the average. For example, all\n",
    "    sources give you temperature data, so you must return the average\n",
    "    temperature for each timestamp.\n",
    "\n",
    "    Also remember that you need to convert the voltage values for the\n",
    "    TMP36 sensor into temperature in °C before averaging with the\n",
    "    other temperature values.\n",
    "\n",
    "    Side note: Some cloudiness (%) data might go above 100 or below\n",
    "    0. You can simply ignore this mistake and proceed assuming a value\n",
    "    like 100.05 is correct."
   ]
  },
  {
   "cell_type": "code",
   "execution_count": null,
   "metadata": {},
   "outputs": [],
   "source": [
    "def solution()-> dict:\n",
    "    # You can iteratively populate the solution_dict\n",
    "    solution_dict = {}\n",
    "\n",
    "    while(True):\n",
    "        try:\n",
    "            ret, ts = wd.get_next()\n",
    "            # This function simulates an API query to get the weather\n",
    "            # data.\n",
    "\n",
    "            # `ret` is a tuple containing weather data from 5 sources,\n",
    "            # (Source 1, Source 2, Source 3, Source 4, Source 5) at\n",
    "            # timestamp `ts`\n",
    "\n",
    "            # ts is the string timestamp when the data was recorded.\n",
    "\n",
    "            # The structure of `ret` is self-documented, and contains\n",
    "            # all the info you need to parse the data.\n",
    "\n",
    "            # You can read the data returned by the API as follows\n",
    "            # pprint(ret[0][\"description\"])\n",
    "            # print(type(ret[0][\"data\"]))\n",
    "\n",
    "        except Exception as E:\n",
    "            print(E)\n",
    "            break\n",
    "\n",
    "    return solution_dict"
   ]
  }
 ],
 "metadata": {
  "kernelspec": {
   "display_name": "Python 3 (ipykernel)",
   "language": "python",
   "name": "python3"
  },
  "language_info": {
   "codemirror_mode": {
    "name": "ipython",
    "version": 3
   },
   "file_extension": ".py",
   "mimetype": "text/x-python",
   "name": "python",
   "nbconvert_exporter": "python",
   "pygments_lexer": "ipython3",
   "version": "3.10.9"
  }
 },
 "nbformat": 4,
 "nbformat_minor": 2
}
