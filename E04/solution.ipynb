{
 "cells": [
  {
   "cell_type": "markdown",
   "metadata": {},
   "source": [
    "<span style=\"font-size:1.15em;font-weight:bold\">\n",
    "Your whole solution to the exercise should be implemented in this\n",
    "file.\n",
    "\n",
    "Be sure to read all comments in this file</span>\n",
    "\n",
    "Your task is to first implement the functions `parse_json`,\n",
    "`parse_timestamp`, `get_uuid`, `parse_bson`, `parse_xml`, and\n",
    "`parse_volts` based on the given instructions.\n",
    "\n",
    "Finally implement the main `solution` function.\n",
    "\n",
    "Only the libraries mentioned in the Pipfile (in addition to the python\n",
    "standard libraries) will be available in our grading setup\n",
    "\n"
   ]
  },
  {
   "cell_type": "code",
   "execution_count": 431,
   "metadata": {
    "ExecuteTime": {
     "end_time": "2024-06-03T01:15:23.464978600Z",
     "start_time": "2024-06-03T01:15:18.376250300Z"
    }
   },
   "outputs": [
    {
     "name": "stdout",
     "output_type": "stream",
     "text": [
      "Requirement already satisfied: bson in c:\\users\\greil\\anaconda3\\lib\\site-packages (0.5.10)\n",
      "Requirement already satisfied: six>=1.9.0 in c:\\users\\greil\\anaconda3\\lib\\site-packages (from bson) (1.16.0)\n",
      "Requirement already satisfied: python-dateutil>=2.4.0 in c:\\users\\greil\\anaconda3\\lib\\site-packages (from bson) (2.8.2)\n",
      "Note: you may need to restart the kernel to use updated packages.\n"
     ]
    }
   ],
   "source": [
    "%pip install bson"
   ]
  },
  {
   "cell_type": "code",
   "execution_count": 432,
   "metadata": {
    "ExecuteTime": {
     "end_time": "2024-06-03T01:15:23.499160100Z",
     "start_time": "2024-06-03T01:15:23.464978600Z"
    }
   },
   "outputs": [],
   "source": [
    "import ETCE.GroupA.Ex04.weather_data as wd  # Do not remove this import\n",
    "from pprint import pprint"
   ]
  },
  {
   "cell_type": "code",
   "execution_count": 433,
   "metadata": {
    "ExecuteTime": {
     "end_time": "2024-06-03T01:15:23.499160100Z",
     "start_time": "2024-06-03T01:15:23.481150800Z"
    }
   },
   "outputs": [],
   "source": [
    "import json\n",
    "import bson\n",
    "import xml.etree.ElementTree as ET\n",
    "from datetime import datetime\n",
    "import pandas as pd\n",
    "import uuid"
   ]
  },
  {
   "cell_type": "markdown",
   "metadata": {},
   "source": [
    "Implement this function to parse the json weather data here,\n",
    "and return a dictionary as follows:\n",
    "\n",
    "\n",
    "    {'temp': ...,\n",
    "     'clouds', ...,\n",
    "     'wind_speed': ...,\n",
    "     'wind_deg': ...,\n",
    "     'wind_gust': ...,\n",
    "     'rain': ...\n",
    "    }\n"
   ]
  },
  {
   "cell_type": "code",
   "execution_count": 434,
   "metadata": {
    "ExecuteTime": {
     "end_time": "2024-06-03T01:15:23.513993300Z",
     "start_time": "2024-06-03T01:15:23.499160100Z"
    }
   },
   "outputs": [],
   "source": [
    "\n",
    "def parse_json(string_returned) -> dict:\n",
    "    return json.loads(string_returned)"
   ]
  },
  {
   "cell_type": "markdown",
   "metadata": {},
   "source": [
    "Implement this function, to parse the string timestamp 'yyyy-mm-dd hh:mm:ss.ms CEST' \n",
    "to a UNIX timestamp in UTC"
   ]
  },
  {
   "cell_type": "code",
   "execution_count": 435,
   "metadata": {
    "ExecuteTime": {
     "end_time": "2024-06-03T01:15:23.560709800Z",
     "start_time": "2024-06-03T01:15:23.513993300Z"
    }
   },
   "outputs": [],
   "source": [
    "\n",
    "def parse_timestamp(string_timestamp) -> int:\n",
    "    # return int(datetime.timestamp(datetime.strptime(string_timestamp, '%Y-%m-%d %H:%M:%S.%f %Z')))\n",
    "    return int(datetime.timestamp(datetime.strptime(string_timestamp, '%Y-%m-%d %H:%M:%S.%f')))"
   ]
  },
  {
   "cell_type": "code",
   "execution_count": 436,
   "metadata": {
    "ExecuteTime": {
     "end_time": "2024-06-03T01:15:23.703126400Z",
     "start_time": "2024-06-03T01:15:23.530206700Z"
    }
   },
   "outputs": [
    {
     "ename": "ValueError",
     "evalue": "unconverted data remains:  CEST",
     "output_type": "error",
     "traceback": [
      "\u001B[1;31m---------------------------------------------------------------------------\u001B[0m",
      "\u001B[1;31mValueError\u001B[0m                                Traceback (most recent call last)",
      "Cell \u001B[1;32mIn[436], line 2\u001B[0m\n\u001B[0;32m      1\u001B[0m timestamp_str \u001B[38;5;241m=\u001B[39m \u001B[38;5;124m'\u001B[39m\u001B[38;5;124m2024-05-06 12:30:00.000 CEST\u001B[39m\u001B[38;5;124m'\u001B[39m\n\u001B[1;32m----> 2\u001B[0m \u001B[43mparse_timestamp\u001B[49m\u001B[43m(\u001B[49m\u001B[43mtimestamp_str\u001B[49m\u001B[43m)\u001B[49m\n",
      "Cell \u001B[1;32mIn[435], line 3\u001B[0m, in \u001B[0;36mparse_timestamp\u001B[1;34m(string_timestamp)\u001B[0m\n\u001B[0;32m      1\u001B[0m \u001B[38;5;28;01mdef\u001B[39;00m \u001B[38;5;21mparse_timestamp\u001B[39m(string_timestamp) \u001B[38;5;241m-\u001B[39m\u001B[38;5;241m>\u001B[39m \u001B[38;5;28mint\u001B[39m:\n\u001B[0;32m      2\u001B[0m     \u001B[38;5;66;03m# return int(datetime.timestamp(datetime.strptime(string_timestamp, '%Y-%m-%d %H:%M:%S.%f %Z')))\u001B[39;00m\n\u001B[1;32m----> 3\u001B[0m     \u001B[38;5;28;01mreturn\u001B[39;00m \u001B[38;5;28mint\u001B[39m(datetime\u001B[38;5;241m.\u001B[39mtimestamp(\u001B[43mdatetime\u001B[49m\u001B[38;5;241;43m.\u001B[39;49m\u001B[43mstrptime\u001B[49m\u001B[43m(\u001B[49m\u001B[43mstring_timestamp\u001B[49m\u001B[43m,\u001B[49m\u001B[43m \u001B[49m\u001B[38;5;124;43m'\u001B[39;49m\u001B[38;5;124;43m%\u001B[39;49m\u001B[38;5;124;43mY-\u001B[39;49m\u001B[38;5;124;43m%\u001B[39;49m\u001B[38;5;124;43mm-\u001B[39;49m\u001B[38;5;132;43;01m%d\u001B[39;49;00m\u001B[38;5;124;43m \u001B[39;49m\u001B[38;5;124;43m%\u001B[39;49m\u001B[38;5;124;43mH:\u001B[39;49m\u001B[38;5;124;43m%\u001B[39;49m\u001B[38;5;124;43mM:\u001B[39;49m\u001B[38;5;124;43m%\u001B[39;49m\u001B[38;5;124;43mS.\u001B[39;49m\u001B[38;5;132;43;01m%f\u001B[39;49;00m\u001B[38;5;124;43m'\u001B[39;49m\u001B[43m)\u001B[49m))\n",
      "File \u001B[1;32m~\\anaconda3\\lib\\_strptime.py:568\u001B[0m, in \u001B[0;36m_strptime_datetime\u001B[1;34m(cls, data_string, format)\u001B[0m\n\u001B[0;32m    565\u001B[0m \u001B[38;5;28;01mdef\u001B[39;00m \u001B[38;5;21m_strptime_datetime\u001B[39m(\u001B[38;5;28mcls\u001B[39m, data_string, \u001B[38;5;28mformat\u001B[39m\u001B[38;5;241m=\u001B[39m\u001B[38;5;124m\"\u001B[39m\u001B[38;5;132;01m%a\u001B[39;00m\u001B[38;5;124m \u001B[39m\u001B[38;5;124m%\u001B[39m\u001B[38;5;124mb \u001B[39m\u001B[38;5;132;01m%d\u001B[39;00m\u001B[38;5;124m \u001B[39m\u001B[38;5;124m%\u001B[39m\u001B[38;5;124mH:\u001B[39m\u001B[38;5;124m%\u001B[39m\u001B[38;5;124mM:\u001B[39m\u001B[38;5;124m%\u001B[39m\u001B[38;5;124mS \u001B[39m\u001B[38;5;124m%\u001B[39m\u001B[38;5;124mY\u001B[39m\u001B[38;5;124m\"\u001B[39m):\n\u001B[0;32m    566\u001B[0m     \u001B[38;5;124;03m\"\"\"Return a class cls instance based on the input string and the\u001B[39;00m\n\u001B[0;32m    567\u001B[0m \u001B[38;5;124;03m    format string.\"\"\"\u001B[39;00m\n\u001B[1;32m--> 568\u001B[0m     tt, fraction, gmtoff_fraction \u001B[38;5;241m=\u001B[39m \u001B[43m_strptime\u001B[49m\u001B[43m(\u001B[49m\u001B[43mdata_string\u001B[49m\u001B[43m,\u001B[49m\u001B[43m \u001B[49m\u001B[38;5;28;43mformat\u001B[39;49m\u001B[43m)\u001B[49m\n\u001B[0;32m    569\u001B[0m     tzname, gmtoff \u001B[38;5;241m=\u001B[39m tt[\u001B[38;5;241m-\u001B[39m\u001B[38;5;241m2\u001B[39m:]\n\u001B[0;32m    570\u001B[0m     args \u001B[38;5;241m=\u001B[39m tt[:\u001B[38;5;241m6\u001B[39m] \u001B[38;5;241m+\u001B[39m (fraction,)\n",
      "File \u001B[1;32m~\\anaconda3\\lib\\_strptime.py:352\u001B[0m, in \u001B[0;36m_strptime\u001B[1;34m(data_string, format)\u001B[0m\n\u001B[0;32m    349\u001B[0m     \u001B[38;5;28;01mraise\u001B[39;00m \u001B[38;5;167;01mValueError\u001B[39;00m(\u001B[38;5;124m\"\u001B[39m\u001B[38;5;124mtime data \u001B[39m\u001B[38;5;132;01m%r\u001B[39;00m\u001B[38;5;124m does not match format \u001B[39m\u001B[38;5;132;01m%r\u001B[39;00m\u001B[38;5;124m\"\u001B[39m \u001B[38;5;241m%\u001B[39m\n\u001B[0;32m    350\u001B[0m                      (data_string, \u001B[38;5;28mformat\u001B[39m))\n\u001B[0;32m    351\u001B[0m \u001B[38;5;28;01mif\u001B[39;00m \u001B[38;5;28mlen\u001B[39m(data_string) \u001B[38;5;241m!=\u001B[39m found\u001B[38;5;241m.\u001B[39mend():\n\u001B[1;32m--> 352\u001B[0m     \u001B[38;5;28;01mraise\u001B[39;00m \u001B[38;5;167;01mValueError\u001B[39;00m(\u001B[38;5;124m\"\u001B[39m\u001B[38;5;124munconverted data remains: \u001B[39m\u001B[38;5;132;01m%s\u001B[39;00m\u001B[38;5;124m\"\u001B[39m \u001B[38;5;241m%\u001B[39m\n\u001B[0;32m    353\u001B[0m                       data_string[found\u001B[38;5;241m.\u001B[39mend():])\n\u001B[0;32m    355\u001B[0m iso_year \u001B[38;5;241m=\u001B[39m year \u001B[38;5;241m=\u001B[39m \u001B[38;5;28;01mNone\u001B[39;00m\n\u001B[0;32m    356\u001B[0m month \u001B[38;5;241m=\u001B[39m day \u001B[38;5;241m=\u001B[39m \u001B[38;5;241m1\u001B[39m\n",
      "\u001B[1;31mValueError\u001B[0m: unconverted data remains:  CEST"
     ]
    }
   ],
   "source": [
    "timestamp_str = '2024-05-06 12:30:00.000 CEST'\n",
    "parse_timestamp(timestamp_str)"
   ]
  },
  {
   "cell_type": "markdown",
   "metadata": {},
   "source": [
    "Implement this function to get a UUID using the uuid module"
   ]
  },
  {
   "cell_type": "code",
   "execution_count": null,
   "metadata": {
    "ExecuteTime": {
     "end_time": "2024-06-03T01:15:23.703126400Z",
     "start_time": "2024-06-03T01:15:23.703126400Z"
    }
   },
   "outputs": [],
   "source": [
    "def get_uuid() -> str:\n",
    "    return str(uuid.uuid4())"
   ]
  },
  {
   "cell_type": "markdown",
   "metadata": {},
   "source": [
    "Implement this function to parse the bson weather data here,\n",
    "and return a dictionary as follows:\n",
    "\n",
    "\n",
    "    {'temp': ...,\n",
    "     'clouds', ...,\n",
    "     'wind_speed': ...,\n",
    "     'wind_deg': ...,\n",
    "     'wind_gust': ...,\n",
    "     'rain': ...\n",
    "    }"
   ]
  },
  {
   "cell_type": "code",
   "execution_count": null,
   "metadata": {
    "ExecuteTime": {
     "start_time": "2024-06-03T01:15:23.703126400Z"
    }
   },
   "outputs": [],
   "source": [
    "def parse_bson(string_returned) -> dict:\n",
    "    return bson.decode(string_returned)"
   ]
  },
  {
   "cell_type": "markdown",
   "metadata": {},
   "source": [
    "Implement this function to parse the xml weather data here,\n",
    "and return a dictionary as follows:\n",
    "\n",
    "\n",
    "    {'temp': ...,\n",
    "     'clouds', ...,\n",
    "     'wind_speed': ...,\n",
    "     'wind_deg': ...,\n",
    "     'wind_gust': ...,\n",
    "     'rain': ...\n",
    "    }"
   ]
  },
  {
   "cell_type": "code",
   "execution_count": null,
   "metadata": {
    "ExecuteTime": {
     "start_time": "2024-06-03T01:15:23.703126400Z"
    }
   },
   "outputs": [],
   "source": [
    "def parse_xml(string_returned) -> dict:\n",
    "    root = ET.fromstring(string_returned)\n",
    "    d = {}\n",
    "    for child in root:\n",
    "        d[child.tag] = child.text\n",
    "    return d"
   ]
  },
  {
   "cell_type": "markdown",
   "metadata": {},
   "source": [
    "Implement this function to parse the xml voltage data from the\n",
    "TMP36 sensor here, convert the voltage to temperature in °C and\n",
    "return a dictionary as follows:    \n",
    "\n",
    "{'temp': ....}\n",
    "\n",
    "Hint: Search for a datasheet for a TMP36 sensor that shows the\n",
    "relationship between a voltage reading from the sensor and the\n",
    "temperature being sensed."
   ]
  },
  {
   "cell_type": "code",
   "execution_count": null,
   "metadata": {
    "ExecuteTime": {
     "start_time": "2024-06-03T01:15:23.703126400Z"
    }
   },
   "outputs": [],
   "source": [
    "with open('/media/storage/TU-Clausthal/ETCE/ETCE-Exercises/E04/ETCE/GroupA/Ex04/multi_format/ws4/7.xml', 'r') as xmlfile:\n",
    "    volt = xmlfile.readline()\n",
    "\n",
    "a = parse_xml(volt)\n",
    "a"
   ]
  },
  {
   "cell_type": "code",
   "execution_count": null,
   "metadata": {
    "ExecuteTime": {
     "start_time": "2024-06-03T01:15:23.703126400Z"
    }
   },
   "outputs": [],
   "source": [
    "# https://learn.adafruit.com/tmp36-temperature-sensor/overview\n",
    "def parse_volts(string_returned)-> dict:\n",
    "    \n",
    "    volt = float(parse_xml(string_returned)['volts'])\n",
    "    temp = (volt-500)/10\n",
    "    return {'temp': temp}"
   ]
  },
  {
   "cell_type": "code",
   "execution_count": null,
   "metadata": {
    "ExecuteTime": {
     "start_time": "2024-06-03T01:15:23.703126400Z"
    }
   },
   "outputs": [],
   "source": [
    "with open('/media/storage/TU-Clausthal/ETCE/ETCE-Exercises/E04/ETCE/GroupA/Ex04/multi_format/ws5/4.xml', 'r') as xmlfile:\n",
    "    volt = xmlfile.readline()\n",
    "\n",
    "a = parse_volts(volt)\n",
    "a"
   ]
  },
  {
   "cell_type": "markdown",
   "metadata": {},
   "source": [
    "This function should return the solution to E03.\n",
    "\n",
    "This function should return a dictionary as follows:\n",
    "\n",
    "    {0 : {\"uuid\" : \"some-uuid\",   Should be unique for every entry\n",
    "          \"timestamp\": 00000000,  Some valid UNIX timestamp\n",
    "           \"temp\":5.33,\n",
    "           \"clouds\":100.0,\n",
    "           \"wind_speed\":2.48,\n",
    "           \"wind_deg\":31.0,\n",
    "           \"wind_gust\":4.1,\n",
    "           \"rain\":1.54\n",
    "           } ,\n",
    "     1 : {...},\n",
    "     .\n",
    "     .\n",
    "     .\n",
    "     n : {...}\n",
    "     }\n",
    "\n",
    "where n=total no of timestamps\n",
    "\n",
    "Remember that you are combining data from various sources into one\n",
    "dict for each timestamp.\n",
    "\n",
    "When new data from multiple sources is available for the same\n",
    "field in the data structure, compute the average. For example, all\n",
    "sources give you temperature data, so you must return the average\n",
    "temperature for each timestamp.\n",
    "\n",
    "Also remember that you need to convert the voltage values for the\n",
    "TMP36 sensor into temperature in °C before averaging with the\n",
    "other temperature values.\n",
    "\n",
    "Side note: Some cloudiness (%) data might go above 100 or below\n",
    "0. You can simply ignore this mistake and proceed assuming a value\n",
    "like 100.05 is correct."
   ]
  },
  {
   "cell_type": "code",
   "execution_count": null,
   "metadata": {
    "ExecuteTime": {
     "end_time": "2024-06-03T01:15:23.718589900Z",
     "start_time": "2024-06-03T01:15:23.718589900Z"
    }
   },
   "outputs": [],
   "source": [
    "def solution()-> dict:\n",
    "    # You can iteratively populate the solution_dict\n",
    "    solution_dict:dict = {}\n",
    "    i = 0\n",
    "\n",
    "    while(True):\n",
    "        try:\n",
    "            ret, ts = wd.get_next()\n",
    "            # This function simulates an API query to get the weather\n",
    "            # data.\n",
    "\n",
    "            # `ret` is a tuple containing weather data from 5 sources,\n",
    "            # (Source 1, Source 2, Source 3, Source 4, Source 5) at\n",
    "            # timestamp `ts`\n",
    "\n",
    "            # ts is the string timestamp when the data was recorded.\n",
    "\n",
    "            # The structure of `ret` is self-documented, and contains\n",
    "            # all the info you need to parse the data.\n",
    "            \n",
    "            solution_dict[i]= {}\n",
    "            solution_dict[i][\"uuid\"] = get_uuid()\n",
    "            solution_dict[i][\"timestamp\"] = parse_timestamp(ts)\n",
    "            \n",
    "            b = parse_json(ret[i][\"data\"])\n",
    "            solution_dict[i].update(b)\n",
    "            \n",
    "            # You can read the data returned by the API as follows\n",
    "            # pprint(ret[0][\"description\"]) # Reading the description of the first weather station\n",
    "            pprint(ret[0][\"data\"]) # Reading the description of the first weather station\n",
    "            print(type(ret[0][\"data\"])) # Reading the datatype of the first weather station data\n",
    "            print(ts)\n",
    "            if( i==2):\n",
    "                break\n",
    "            i+=1\n",
    "            break\n",
    "\n",
    "        except Exception as E:\n",
    "            print(E)\n",
    "            break\n",
    "\n",
    "    return solution_dict\n",
    "solution()"
   ]
  },
  {
   "cell_type": "markdown",
   "metadata": {},
   "source": [
    "### Evaluate your solution"
   ]
  },
  {
   "cell_type": "code",
   "execution_count": null,
   "metadata": {
    "ExecuteTime": {
     "start_time": "2024-06-03T01:15:23.718589900Z"
    }
   },
   "outputs": [],
   "source": [
    "from driver import evaluate\n",
    "wd.i = 0\n",
    "evaluate(solution, parse_json, parse_bson, parse_xml, parse_timestamp, get_uuid, parse_volts)"
   ]
  }
 ],
 "metadata": {
  "kernelspec": {
   "display_name": "Python 3 (ipykernel)",
   "language": "python",
   "name": "python3"
  },
  "language_info": {
   "codemirror_mode": {
    "name": "ipython",
    "version": 3
   },
   "file_extension": ".py",
   "mimetype": "text/x-python",
   "name": "python",
   "nbconvert_exporter": "python",
   "pygments_lexer": "ipython3",
   "version": "3.11.8"
  }
 },
 "nbformat": 4,
 "nbformat_minor": 4
}
