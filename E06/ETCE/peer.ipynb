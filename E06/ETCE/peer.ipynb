{
 "cells": [
  {
   "cell_type": "code",
   "execution_count": null,
   "id": "initial_id",
   "metadata": {
    "collapsed": true
   },
   "outputs": [],
   "source": [
    "from nacl.public import PrivateKey, PublicKey\n",
    "from nacl.signing import SigningKey, VerifyKey, SignedMessage\n",
    "from nacl.encoding import RawEncoder\n",
    "from nacl.utils import EncryptedMessage"
   ]
  },
  {
   "cell_type": "markdown",
   "source": [
    "## Interface class for Ex05 Solution"
   ],
   "metadata": {
    "collapsed": false
   },
   "id": "916b00085e6e2499"
  },
  {
   "cell_type": "code",
   "execution_count": null,
   "outputs": [],
   "source": [
    "class Ex06Solution(object):\n",
    "    def __init__(self):\n",
    "        self.__peer_signingkey__ = SigningKey(b'\\xc7\\xc7\\t\\x12uI\\x9b\\x18q\\xd3\\xb7\\xc6e\\xea\\xa4\\xba0\\xe0Lj\\x03V/\\xeek\\x874#\\x0e>\\x06r',\n",
    "                                              encoder=RawEncoder)\n",
    "\n",
    "        self.__peer_ephermal_priv__ = PrivateKey(b'\\x89\\xf7,&\\xd9\\xc6\\x81\\xf6\\x86!w9\\xb9\\xb3\\x9c\\x1f\\xa9W\\xcf\\x9f\\xb5\\xd0\\xe4\\xa9\\x86\\xb6\\x15XKd\\xe8\\x1d',\n",
    "                                                 encoder=RawEncoder)\n",
    "\n",
    "        self.__peer_signed_ephermal_pub__ = SignedMessage(b\"#\\x91+y#\\xbaYS\\xe0\\x00\\x9e\\xb8\\xc1md\\xa0\\xc1aLNPC\\xf6a\\xa63A\\xddB\\xef\\x11x\\xdd\\x89\\x85\\x93\\x93O\\xa6\\xa2\\xbb\\xa7\\x8e9\\xef^\\xf7\\x97\\xd0@l\\xd0\\xb5\\x8a\\xc1\\xb7o\\xcb\\x00\\x02l\\xe1\\x9f\\x01\\xe6\\x14\\xe5\\x00S$@=\\xbc!\\xc8k\\x9b@\\x9a[t\\x0c\\xc3M)\\x94\\xb0\\x7f'+\\x8c\\xb7\\r\\xc0\\xb7\\x7f\")\n",
    "        self.__peer_signed_ephermal_pub__.__dict__ = {'_signature': b'#\\x91+y#\\xbaYS\\xe0\\x00\\x9e\\xb8\\xc1md\\xa0\\xc1aLNPC\\xf6a\\xa63A\\xddB\\xef\\x11x\\xdd\\x89\\x85\\x93\\x93O\\xa6\\xa2\\xbb\\xa7\\x8e9\\xef^\\xf7\\x97\\xd0@l\\xd0\\xb5\\x8a\\xc1\\xb7o\\xcb\\x00\\x02l\\xe1\\x9f\\x01',\n",
    "                                                      '_message': b\"\\xe6\\x14\\xe5\\x00S$@=\\xbc!\\xc8k\\x9b@\\x9a[t\\x0c\\xc3M)\\x94\\xb0\\x7f'+\\x8c\\xb7\\r\\xc0\\xb7\\x7f\"}\n",
    "\n",
    "        self.peer_verifykey = None\n",
    "\n",
    "        self.derived_key = None\n",
    "\n",
    "        self.dk_salt = b'\\xf6o+\\xabL\\x98WM=S\\xde\\xe2\\xe0\\xe6\\t\\x85'\n",
    "\n",
    "        self.encrypted_personal_signingkey = b'\\xa5\\xd5\\r\\x83\\xc3m\\xe1E:PV\\xe1\\x14@\\n\\xc4\\x11\\x17\\xecZ\\xe90X\\xb9\\xb3I\\x87\\xfe\\xbf.D7\\xb47S\\xf8z\\xf2}\\xd2\\xd7\\xc0\\xe8\"\\xff7\\xa98\\xf2z\\xa8G\\x12\\x90\\x9d\\x02f\\xe4\\x85\\xbd\\x7f\\x9f\\xb7E\\xf5\\xc9Ql\\x0e\\xf6Ke'\n",
    "\n",
    "        self.personal_signingkey = None\n",
    "\n",
    "        (self.personal_ephermal_pubkey, self.personal_ephermal_privkey) = (None, None)\n",
    "\n",
    "        self.peer_ephermal_pubkey = None\n",
    "\n",
    "        self.ECDH_box = None\n",
    "\n",
    "        self.__buyers_intervals__ = [{\"charging_start\": 1618056000,\n",
    "                                      \"charging_end\": 1618059600,\n",
    "                                      \"charging_duration\": 3600,\n",
    "                                      \"charging_station_name\": \"Charging Station 1\",\n",
    "                                      \"energy_provider_name\": \"Energy Provider 2\",\n",
    "                                      \"battery_energy_before\": 0,\n",
    "                                      \"battery_energy_after\": 10,\n",
    "                                      \"energy_bought\": 10,\n",
    "                                      \"price\":None\n",
    "                                      },\n",
    "                                     {\"charging_start\": 1618063200,\n",
    "                                      \"charging_end\": 1618066800,\n",
    "                                      \"charging_duration\": 3600,\n",
    "                                      \"charging_station_name\": \"Charging Station 1\",\n",
    "                                      \"energy_provider_name\": \"Energy Provider 2\",\n",
    "                                      \"battery_energy_before\": 0,\n",
    "                                      \"battery_energy_after\": 10,\n",
    "                                      \"energy_bought\": 10,\n",
    "                                      \"price\":None\n",
    "                                      },\n",
    "                                     {\"charging_start\": 1618077600,\n",
    "                                      \"charging_end\": 1618081200,\n",
    "                                      \"charging_duration\": 3600,\n",
    "                                      \"charging_station_name\": \"Charging Station 1\",\n",
    "                                      \"energy_provider_name\": \"Energy Provider 2\",\n",
    "                                      \"battery_energy_before\": 0,\n",
    "                                      \"battery_energy_after\": 10,\n",
    "                                      \"energy_bought\": 10,\n",
    "                                      \"price\":None\n",
    "                                      }]\n",
    "        self.__sellers_price__ = 20\n",
    "    def get_peer_pubkey(self) -> bytes:\n",
    "        \"\"\"This function will give you the encoded public key\n",
    "        (`nacl.signing.VerifyKey`) for your peer.\n",
    "\n",
    "        Public key was encoded using the\n",
    "        `nacl.signing.VerifyKey.encode()` method using\n",
    "        `nacl.encoding.RawEncoder`\n",
    "\n",
    "        https://pynacl.readthedocs.io/en/stable/\n",
    "\n",
    "        DO NOT OVERRIDE THIS METHOD\n",
    "\n",
    "        \"\"\"\n",
    "        return self.__peer_signingkey__.verify_key.encode(encoder=RawEncoder)\n",
    "\n",
    "    def get_peer_ephermal_pubkey_signed(self) -> SignedMessage:\n",
    "        \"\"\"This function will return the signed ephermal public key for your\n",
    "        peer.\n",
    "\n",
    "        Assume that the public key is encoded using\n",
    "        `nacl.encoding.RawEncoder`\n",
    "        \n",
    "        DO NOT OVERRIDE THIS METHOD\n",
    "\n",
    "        \"\"\"\n",
    "        return self.__peer_signed_ephermal_pub__\n",
    "\n",
    "    def get_buyer_options(self) -> list:\n",
    "        \"\"\"This function will return the list of charging interval options for\n",
    "        a particular day for the Energy Buyers. Each option has the structure:\n",
    " \n",
    "        {\"charging_start\": <integer timestamp>,\n",
    "        \"charging_end\": <integer timestamp>,\n",
    "        \"charging_duration\": <integer> seconds,\n",
    "        \"charging_station_name\": <string >,\n",
    "        \"energy_provider_name\": <string >,\n",
    "        \"battery_energy_before\": <float kWh>,\n",
    "        \"battery_energy_after\": <float kWh>,\n",
    "        \"energy_bought\": <float kWh>,\n",
    "        \"price\": <float €>\n",
    "        }\n",
    "        The `price` value will be None\n",
    "        \n",
    "        DO NOT OVERRIDE THIS METHOD\n",
    "\n",
    "        \"\"\"\n",
    "        return self.__buyers_intervals__\n",
    "\n",
    "    def get_sellers_selling_rate(self) -> float:\n",
    "        \"\"\"This function will return the price(per kWh) in c€ for Energy\n",
    "        Sellers.\n",
    "        \n",
    "        DO NOT OVERRIDE THIS METHOD\n",
    "\n",
    "        \"\"\"\n",
    "        return self.__sellers_price__\n",
    "\n",
    "    def derive_symm_key(self) -> None:\n",
    "        \"\"\"Step 1. of the Excercise Sheet\n",
    "        \n",
    "        This function should derive the symmetric key of size\n",
    "        nacl.secret.SecretBox.KEY_SIZE using the argon2id key\n",
    "        derivation function using the password and salt provided\n",
    "        (self.dk_salt) and set the class variable `self.derived_key`\n",
    "        by initializing a `nacl.secret.SecretBox` object. Use the\n",
    "        `SENSITIVE` ops and mem limits.\n",
    "        \n",
    "        https://pynacl.readthedocs.io/en/stable/\n",
    "        \n",
    "        OVERRIDE THIS METHOD\n",
    "\n",
    "        \"\"\"\n",
    "        pass\n",
    "\n",
    "    def load_personal_privkey(self) -> bytes:\n",
    "        \"\"\"Step 2. of the Excercise Sheet\n",
    "        \n",
    "        https://pynacl.readthedocs.io/en/stable/\n",
    "\n",
    "        This function should load your personal private key\n",
    "        (`nacl.signing.SigningKey`) using the DerivedKey\n",
    "        (`self.derived_key`) and Encrypted Private Key\n",
    "        (`self.encrypted_personal_signingkey`) and set the class\n",
    "        variable `self.personal_signingkey` by initializing a\n",
    "        `nacl.signing.SigningKey` object\n",
    "        \n",
    "        Assume that the Encrypted Private Key provided to you is the\n",
    "        result of encrypting the encoded bytes returned by the\n",
    "        `nacl.signing.SigningKey.encode()` method using the\n",
    "        `nacl.encoding.RawEncoder`. Encode and return the associated\n",
    "        personal public key (`nacl.signing.VerifyKey`) using the same\n",
    "        encoder.\n",
    "        \n",
    "        https://pynacl.readthedocs.io/en/stable/\n",
    "\n",
    "        OVERRIDE THIS METHOD\n",
    "\n",
    "        \"\"\"\n",
    "        pass\n",
    "\n",
    "    def load_peer_pubkey(self) -> None:\n",
    "        \"\"\"Step 3. of the Excercise Sheet\n",
    "\n",
    "        This function should load your peer's public key\n",
    "        (`nacl.signing.VerifyKey`) using `self.get_peer_pubkey()` and\n",
    "        set the class variable `self.peer_verifykey` by initializing a\n",
    "        `nacl.signing.VerifyKey` object\n",
    "        \n",
    "        OVERRIDE THIS METHOD\n",
    "        \n",
    "        \"\"\"\n",
    "        pass"
   ],
   "metadata": {
    "collapsed": false
   },
   "id": "6e41c34c922dabc7"
  },
  {
   "cell_type": "markdown",
   "source": [
    "### Step 4. of the Excercise Sheet\n",
    "\n",
    "This function should generate an ephermal keypair and set the\n",
    "class variables `self.personal_ephermal_pubkey` and\n",
    "`self.personal_ephermal_privkey`. Encode the ephermal public\n",
    "key using the `nacl.encoding.RawEncoder`.\n",
    "\n",
    "https://pynacl.readthedocs.io/en/stable/encoding/#nacl.encoding.RawEncoder\n",
    "\n",
    "Sign this encoded public key using your personal private key\n",
    "and return an instance of `nacl.signing.SignedMessage`\n",
    "        \n",
    "The signed message will be verified by your peer\n",
    "\n",
    "So as to not give you the solution pertaining to the\n",
    "verification of a SignedMessage, the grading tool provided to\n",
    "you will not Actually verify the message, but only check if it\n",
    "is correctly instantiated. The evaluation `driver.py`, however\n",
    "WILL attempt to verify using your signed ephermal public key\n",
    "using your personal public key which was returned earlier in\n",
    "Step 2. So make sure that this is possible before you submit\n",
    "your handout tar."
   ],
   "metadata": {
    "collapsed": false
   },
   "id": "4c9d399b0b8ef02f"
  },
  {
   "cell_type": "code",
   "execution_count": null,
   "outputs": [],
   "source": [
    "def generate_ephermal_keypair(self) -> SignedMessage:\n",
    "    # OVERRIDE THIS METHOD\n",
    "    pass"
   ],
   "metadata": {
    "collapsed": false
   },
   "id": "a1f0b37b191989d0"
  },
  {
   "cell_type": "markdown",
   "source": [
    "### Step 5. of the Excercise Sheet\n",
    "        \n",
    "This function should receive the signed ephermal public key\n",
    "for the peer by calling\n",
    "\n",
    "`self.get_peer_ephermal_pubkey_signed()`\n",
    "\n",
    "Verify the signature, and set the class variable\n",
    "`self.peer_ephermal_pubkey` as an instance of\n",
    "`nacl.public.PublicKey` ONLY IF the verification is\n",
    "successful.\n",
    "\n",
    "Also, return the boolean result of the verification"
   ],
   "metadata": {
    "collapsed": false
   },
   "id": "84e5f6591c19f51b"
  },
  {
   "cell_type": "code",
   "execution_count": null,
   "outputs": [],
   "source": [
    "def receive_ephermal_pubkey(self) -> bool:\n",
    "    # OVERRIDE THIS METHOD\n",
    "    pass"
   ],
   "metadata": {
    "collapsed": false
   },
   "id": "b394a58ca639bbf0"
  },
  {
   "cell_type": "markdown",
   "source": [
    "### Step 6. of the Excercise Sheet\n",
    "\n",
    "This function should use your ephermal private key and your\n",
    "peer's ephermal public key to perform an ECDH key exchange, by\n",
    "setting the class variable `self.ECDH_box` as an instance of\n",
    "`nacl.public.Box`"
   ],
   "metadata": {
    "collapsed": false
   },
   "id": "7208e94768b7340d"
  },
  {
   "cell_type": "code",
   "execution_count": null,
   "outputs": [],
   "source": [
    "def perform_ecdh_keyexchange(self) -> None:\n",
    "    # OVERRIDE THIS METHOD\n",
    "    pass"
   ],
   "metadata": {
    "collapsed": false
   },
   "id": "62b39f313ee9258c"
  },
  {
   "cell_type": "markdown",
   "source": [
    "This function should use the shared secret from\n",
    "`self.ECDH_box` to use as a key to create a\n",
    "`nacl.secret.SecretBox` object and then use this as an\n",
    " authenticated encryption mechanism to decrypt the\n",
    "`encrypted_message`, which is a `nacl.utils.EncryptedMessage`\n",
    "instance and return the plaintext bytes."
   ],
   "metadata": {
    "collapsed": false
   },
   "id": "6ddecb2febbbb1fb"
  },
  {
   "cell_type": "code",
   "execution_count": null,
   "outputs": [],
   "source": [
    "def decrypt(self, encrypted_message) -> bytes:\n",
    "    pass"
   ],
   "metadata": {
    "collapsed": false
   },
   "id": "1cdd65843e63b877"
  },
  {
   "cell_type": "markdown",
   "source": [
    "This function should use the shared secret from\n",
    "`self.ECDH_box` to use as a key to create a\n",
    "`nacl.secret.SecretBox` object and then use this as an\n",
    "authenticated encryption mechanism to encrypt the\n",
    "`plaintext_bytes`, which is a `bytes` instance and return a\n",
    "`nacl.utils.EncryptedMessage` instance."
   ],
   "metadata": {
    "collapsed": false
   },
   "id": "ebee1b5c1bd2abbc"
  },
  {
   "cell_type": "markdown",
   "source": [
    "### Step 7. of the Excercise Sheet \n",
    "\n",
    "This function should use the shared secret from\n",
    "`self.ECDH_box` to use as a key to create a\n",
    "`nacl.secret.SecretBox` object and then use this as an\n",
    "authenticated encryption mechanism to decrypt the\n",
    "`encrypted_purchase_request`. Use utf-8 decoding to produce\n",
    "the plaintext json string. Decode the json string into a\n",
    "python dictionary.\n",
    "\n",
    "Expect a dictionary structure of the following format:\n",
    "\n",
    "    {\"charging_start\": <integer timestamp>,\n",
    "    \"charging_end\": <integer timestamp>,\n",
    "    \"charging_duration\": <integer> seconds,\n",
    "    \"charging_station_name\": <string >,\n",
    "    \"energy_provider_name\": <string >,\n",
    "    \"battery_energy_before\": <float kWh>,\n",
    "    \"battery_energy_after\": <float kWh>,\n",
    "    \"energy_bought\": <float kWh>,\n",
    "    \"price\": <float €>\n",
    "    }\n",
    "\n",
    "Compute the price (in €) that you will charge the buyer, by\n",
    "using the `energy_bought` value of the purchase request and\n",
    "the price per kWh, which can be obtained by calling the\n",
    "function `self.get_sellers_selling_rate()` which returns c€.\n",
    "\n",
    "Round this price to the nearest 2 decimal places and convert\n",
    "it to string. Using utf-8 encoding generate the plaintext\n",
    "bytes, encrypt it using the previously created SecretBox and\n",
    "return an `nacl.utils.EncryptedMessage` object.\n",
    "\n",
    "IMPORTANT: Generate a new nonce.\n",
    "\n",
    "The encrypted price will be decrypted by your peer.\n",
    "\n",
    "So as to not give you the solution pertaining to the\n",
    "decryption of an EncryptedMessage, the grading tool provided\n",
    "to you will not Actually decrypt the message, but only check\n",
    "if it is correctly instantiated. The evaluation `driver.py`,\n",
    "however WILL attempt to decrypt using your signed ephermal\n",
    "public key and the peer's ephermal private key. So make sure\n",
    "that this is possible before you submit your handout tar."
   ],
   "metadata": {
    "collapsed": false
   },
   "id": "7f7a1126d677146a"
  },
  {
   "cell_type": "code",
   "execution_count": null,
   "outputs": [],
   "source": [
    "def seller_decrypt_purchase_request(self, encrypted_purchase_request) -> EncryptedMessage:\n",
    "    # OVERRIDE THIS METHOD\n",
    "    pass"
   ],
   "metadata": {
    "collapsed": false
   },
   "id": "6b0c73e536e23b67"
  }
 ],
 "metadata": {
  "kernelspec": {
   "display_name": "Python 3",
   "language": "python",
   "name": "python3"
  },
  "language_info": {
   "codemirror_mode": {
    "name": "ipython",
    "version": 2
   },
   "file_extension": ".py",
   "mimetype": "text/x-python",
   "name": "python",
   "nbconvert_exporter": "python",
   "pygments_lexer": "ipython2",
   "version": "2.7.6"
  }
 },
 "nbformat": 4,
 "nbformat_minor": 5
}
