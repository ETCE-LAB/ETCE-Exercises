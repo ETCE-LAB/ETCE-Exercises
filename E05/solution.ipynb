{
 "cells": [
  {
   "cell_type": "code",
   "execution_count": 11,
   "id": "initial_id",
   "metadata": {
    "ExecuteTime": {
     "end_time": "2024-06-24T08:34:22.861561100Z",
     "start_time": "2024-06-24T08:34:22.853573400Z"
    }
   },
   "outputs": [],
   "source": [
    "import ETCE.ScenarioA.Ex04.weather_data as wd\n",
    "import datetime\n",
    "# DO NOT REMOVE THE ABOVE IMPORT.\n",
    "# Additionally, you can import any python standard library"
   ]
  },
  {
   "cell_type": "markdown",
   "id": "1ca940f85b027000",
   "metadata": {
    "collapsed": false
   },
   "source": [
    "This function must accept a weather prediction of the form:\n",
    "\n",
    "    {\"uuid\" : \"some-uuid\",    \n",
    "    \"timestamp\": 00000000,\n",
    "    \"temp\":5.33,\n",
    "    \"clouds\":100.0,\n",
    "    \"wind_speed\":2.48,\n",
    "    \"wind_deg\":31.0,\n",
    "    \"wind_gust\":4.1,\n",
    "    \"rain\":1.54\n",
    "    }\n",
    "    \n",
    "Return the predicted power output of the solar farm.\n",
    "\n",
    "Solar farm Capacity:    50kW\n",
    "Solar farm gives 0kW output from 9pm to 6am    \n",
    "\n",
    "Solar Farm output is linear in cloudiness:\n",
    "Clouds=0% => Solar Farm outputs at 100% Capacity\n",
    "Clouds=100% => Solar Farm outputs at 10% Capacity"
   ]
  },
  {
   "cell_type": "code",
   "execution_count": 12,
   "id": "a05f53db04868ca3",
   "metadata": {
    "collapsed": false,
    "ExecuteTime": {
     "end_time": "2024-06-24T08:34:22.876365700Z",
     "start_time": "2024-06-24T08:34:22.867611500Z"
    }
   },
   "outputs": [],
   "source": [
    "def predict_solar_output(weather_data):\n",
    "    solar_capacity = 50  # kW\n",
    "    total_solar_output = 0\n",
    "    solar_output_by_timestamp = {}\n",
    "    count = 0\n",
    "    \n",
    "    for timestamp, data in weather_data.items():\n",
    "        time = datetime.datetime.fromtimestamp(timestamp)\n",
    "        \n",
    "        if 21 <= time.hour or time.hour < 6:\n",
    "            power_output = 0\n",
    "        else:\n",
    "            \n",
    "            clouds = data['clouds']\n",
    "            output_percentage = 0.9 * (100 - clouds) / 100 + 0.1\n",
    "            power_output = solar_capacity * output_percentage\n",
    "        \n",
    "        if count == 0:\n",
    "            solar_output_by_timestamp[timestamp] = {\"power_output\": power_output, \"energy_accumulated\": 0}\n",
    "        else:\n",
    "            prev_energy = solar_output_by_timestamp[prev_timestamp][\"energy_accumulated\"]\n",
    "            solar_output_by_timestamp[timestamp] = {\"power_output\": power_output, \"energy_accumulated\": prev_energy + power_output}\n",
    "\n",
    "        total_solar_output += power_output\n",
    "        prev_timestamp = timestamp\n",
    "        count += 1\n",
    "\n",
    "    average_output = total_solar_output / count if count > 0 else 0\n",
    "    return solar_output_by_timestamp, average_output\n"
   ]
  },
  {
   "cell_type": "markdown",
   "id": "f591d1869ce81731",
   "metadata": {
    "collapsed": false
   },
   "source": [
    "This function must accept a weather prediction of the form:\n",
    "\n",
    "    {\"uuid\" : \"some-uuid\",\n",
    "    \"timestamp\": 00000000,\n",
    "    \"temp\":5.33,\n",
    "    \"clouds\":100.0,\n",
    "    \"wind_speed\":2.48,\n",
    "    \"wind_deg\":31.0,\n",
    "    \"wind_gust\":4.1,\n",
    "    \"rain\":1.54\n",
    "    }\n",
    "    \n",
    "Return the predicted power output of the wind farm.\n",
    "\n",
    "Wind farm Capacity: 50kW    \n",
    "Wind Farm output % is linear in wind_speed\n",
    "\n",
    "Wind Farm cut in speed = 3m/s\n",
    "Wind Farm rated speed = 11m/s"
   ]
  },
  {
   "cell_type": "code",
   "execution_count": 13,
   "id": "92dca8b648284205",
   "metadata": {
    "collapsed": false,
    "ExecuteTime": {
     "end_time": "2024-06-24T08:34:22.899930900Z",
     "start_time": "2024-06-24T08:34:22.883680900Z"
    }
   },
   "outputs": [],
   "source": [
    "def predict_wind_output(weather_data):\n",
    "    wind_capacity = 50  \n",
    "    total_wind_output = 0\n",
    "    wind_output_by_timestamp = {}\n",
    "    count = 0\n",
    "    \n",
    "    for timestamp, data in weather_data.items():\n",
    "        wind_speed = data['wind_speed']\n",
    "        \n",
    "        if wind_speed < 3:  \n",
    "            power_output = 0\n",
    "        elif wind_speed >= 11:  \n",
    "            power_output = wind_capacity\n",
    "        else:  \n",
    "            power_output = wind_capacity * (wind_speed - 3) / (11 - 3)\n",
    "        \n",
    "        if count == 0:\n",
    "            wind_output_by_timestamp[timestamp] = {\"power_output\": power_output, \"energy_accumulated\": 0}\n",
    "        else:\n",
    "            prev_energy = wind_output_by_timestamp[prev_timestamp][\"energy_accumulated\"]\n",
    "            wind_output_by_timestamp[timestamp] = {\"power_output\": power_output, \"energy_accumulated\": prev_energy + power_output}\n",
    "\n",
    "        total_wind_output += power_output\n",
    "        prev_timestamp = timestamp\n",
    "        count += 1\n",
    "\n",
    "    average_output = total_wind_output / count if count > 0 else 0\n",
    "    return wind_output_by_timestamp, average_output\n"
   ]
  },
  {
   "cell_type": "markdown",
   "id": "9aa84c7e5d6795a",
   "metadata": {
    "collapsed": false
   },
   "source": [
    "This function should return the solution to the Ex04\n",
    "\n",
    "Return a tuple with the following structure:\n",
    "\n",
    "    (({<integer timestamp>: \n",
    "     {\"power_output\":<float (kW)>,\n",
    "      \"energy_accumulated\":<float kWh>},\n",
    "     ...,\n",
    "     }, <float average power output in %>),\n",
    "    ({<integer timestamp>: \n",
    "     {\"power_output\":<float (kW)>,\n",
    "      \"energy_accumulated\":<float kWh>},\n",
    "     ...,\n",
    "     }, <float average power output in %>))\n",
    "\n",
    "power_output must correspond to the timestamp (result of a call to\n",
    "solar() and wind()).\n",
    "\n",
    "energy_accumulated must be total energy accumulated until that\n",
    "timestamp (assumed to be 0 at the first timestamp)\n",
    "\n",
    "The first and second nested tuples represent the power output of\n",
    "the solar and wind farms respectively"
   ]
  },
  {
   "cell_type": "code",
   "execution_count": 14,
   "id": "fc168c19711d5fd2",
   "metadata": {
    "collapsed": false,
    "ExecuteTime": {
     "end_time": "2024-06-24T08:34:22.910756300Z",
     "start_time": "2024-06-24T08:34:22.894442300Z"
    }
   },
   "outputs": [],
   "source": [
    "def solution():\n",
    "    weather_predictions = wd.get_predictions()\n",
    "    \n",
    "\n",
    "    start_time = datetime.datetime(2021, 4, 10, 2, 0, 0)\n",
    "    start_timestamp = int(start_time.timestamp())\n",
    "    \n",
    "    filtered_data = {ts: data for ts, data in weather_predictions.items() if ts > start_timestamp}\n",
    "    \n",
    "    solar_results, avg_solar_output = predict_solar_output(filtered_data)\n",
    "    wind_results, avg_wind_output = predict_wind_output(filtered_data)\n",
    "\n",
    "    return (solar_results, avg_solar_output), (wind_results, avg_wind_output)\n"
   ]
  },
  {
   "cell_type": "markdown",
   "id": "f13c757a624e4f1d",
   "metadata": {
    "collapsed": false
   },
   "source": [
    "Evaluate your solution:"
   ]
  },
  {
   "cell_type": "code",
   "execution_count": 15,
   "id": "ab2971be159411bd",
   "metadata": {
    "collapsed": false,
    "ExecuteTime": {
     "end_time": "2024-06-24T08:34:23.017919600Z",
     "start_time": "2024-06-24T08:34:22.910756300Z"
    }
   },
   "outputs": [
    {
     "name": "stdout",
     "output_type": "stream",
     "text": [
      "solution() failed to run:\n"
     ]
    },
    {
     "ename": "InvalidOperation",
     "evalue": "[<class 'decimal.ConversionSyntax'>]",
     "output_type": "error",
     "traceback": [
      "\u001B[1;31m---------------------------------------------------------------------------\u001B[0m",
      "\u001B[1;31mInvalidOperation\u001B[0m                          Traceback (most recent call last)",
      "Cell \u001B[1;32mIn[15], line 3\u001B[0m\n\u001B[0;32m      1\u001B[0m \u001B[38;5;28;01mfrom\u001B[39;00m \u001B[38;5;21;01mdriver\u001B[39;00m \u001B[38;5;28;01mimport\u001B[39;00m evaluate\n\u001B[0;32m      2\u001B[0m wd\u001B[38;5;241m.\u001B[39mi \u001B[38;5;241m=\u001B[39m \u001B[38;5;241m0\u001B[39m\n\u001B[1;32m----> 3\u001B[0m \u001B[43mevaluate\u001B[49m\u001B[43m(\u001B[49m\u001B[43msolution\u001B[49m\u001B[43m,\u001B[49m\u001B[43m \u001B[49m\u001B[43msolar\u001B[49m\u001B[43m,\u001B[49m\u001B[43m \u001B[49m\u001B[43mwind\u001B[49m\u001B[43m)\u001B[49m\n",
      "File \u001B[1;32m~\\Uni\\Hiwi\\Git Repo ipynb\\ETCE-Exercises\\E05\\driver.py:195\u001B[0m, in \u001B[0;36mevaluate\u001B[1;34m(solution, solar, wind)\u001B[0m\n\u001B[0;32m    192\u001B[0m \u001B[38;5;28;01mdef\u001B[39;00m \u001B[38;5;21mevaluate\u001B[39m(\n\u001B[0;32m    193\u001B[0m         solution, solar, wind\n\u001B[0;32m    194\u001B[0m ):\n\u001B[1;32m--> 195\u001B[0m     e \u001B[38;5;241m=\u001B[39m \u001B[43mevaluation\u001B[49m\u001B[43m(\u001B[49m\n\u001B[0;32m    196\u001B[0m \u001B[43m        \u001B[49m\u001B[43msolution\u001B[49m\u001B[43m,\u001B[49m\n\u001B[0;32m    197\u001B[0m \u001B[43m        \u001B[49m\u001B[43msolar\u001B[49m\u001B[43m,\u001B[49m\n\u001B[0;32m    198\u001B[0m \u001B[43m        \u001B[49m\u001B[43mwind\u001B[49m\u001B[43m,\u001B[49m\n\u001B[0;32m    199\u001B[0m \u001B[43m    \u001B[49m\u001B[43m)\u001B[49m\n\u001B[0;32m    201\u001B[0m     \u001B[38;5;28mprint\u001B[39m(\u001B[38;5;124mf\u001B[39m\u001B[38;5;124m\"\u001B[39m\u001B[38;5;124mGrade = \u001B[39m\u001B[38;5;132;01m{\u001B[39;00me[\u001B[38;5;241m0\u001B[39m]\u001B[38;5;132;01m}\u001B[39;00m\u001B[38;5;124m%\u001B[39m\u001B[38;5;124m\"\u001B[39m)\n\u001B[0;32m    203\u001B[0m     \u001B[38;5;28;01mif\u001B[39;00m e[\u001B[38;5;241m0\u001B[39m] \u001B[38;5;241m==\u001B[39m \u001B[38;5;241m100\u001B[39m:\n",
      "File \u001B[1;32m~\\Uni\\Hiwi\\Git Repo ipynb\\ETCE-Exercises\\E05\\driver.py:188\u001B[0m, in \u001B[0;36mevaluation\u001B[1;34m(solution, solar, wind)\u001B[0m\n\u001B[0;32m    186\u001B[0m \u001B[38;5;28;01mexcept\u001B[39;00m \u001B[38;5;167;01mException\u001B[39;00m \u001B[38;5;28;01mas\u001B[39;00m E:\n\u001B[0;32m    187\u001B[0m     \u001B[38;5;28mprint\u001B[39m(\u001B[38;5;124m\"\u001B[39m\u001B[38;5;124msolution() failed to run:\u001B[39m\u001B[38;5;124m\"\u001B[39m)\n\u001B[1;32m--> 188\u001B[0m     \u001B[38;5;28;01mraise\u001B[39;00m (E)\n\u001B[0;32m    189\u001B[0m \u001B[38;5;28;01mreturn\u001B[39;00m (evaluation_A \u001B[38;5;241m*\u001B[39m \u001B[38;5;241m100\u001B[39m,)\n",
      "File \u001B[1;32m~\\Uni\\Hiwi\\Git Repo ipynb\\ETCE-Exercises\\E05\\driver.py:177\u001B[0m, in \u001B[0;36mevaluation\u001B[1;34m(solution, solar, wind)\u001B[0m\n\u001B[0;32m    174\u001B[0m evaluation_A \u001B[38;5;241m=\u001B[39m \u001B[38;5;241m0\u001B[39m\n\u001B[0;32m    175\u001B[0m \u001B[38;5;28;01mtry\u001B[39;00m:\n\u001B[0;32m    176\u001B[0m     \u001B[38;5;28;01mfor\u001B[39;00m (success, weight) \u001B[38;5;129;01min\u001B[39;00m \u001B[38;5;28mzip\u001B[39m(\n\u001B[1;32m--> 177\u001B[0m         \u001B[43mcheck_solution_A\u001B[49m\u001B[43m(\u001B[49m\n\u001B[0;32m    178\u001B[0m \u001B[43m            \u001B[49m\u001B[43msolution\u001B[49m\u001B[43m,\u001B[49m\n\u001B[0;32m    179\u001B[0m \u001B[43m            \u001B[49m\u001B[43msolar\u001B[49m\u001B[43m,\u001B[49m\n\u001B[0;32m    180\u001B[0m \u001B[43m            \u001B[49m\u001B[43mwind\u001B[49m\u001B[43m,\u001B[49m\n\u001B[0;32m    181\u001B[0m \u001B[43m        \u001B[49m\u001B[43m)\u001B[49m,\n\u001B[0;32m    182\u001B[0m         weighting_a,\n\u001B[0;32m    183\u001B[0m     ):\n\u001B[0;32m    184\u001B[0m         \u001B[38;5;28;01mif\u001B[39;00m success:\n\u001B[0;32m    185\u001B[0m             evaluation_A \u001B[38;5;241m+\u001B[39m\u001B[38;5;241m=\u001B[39m weight\n",
      "File \u001B[1;32m~\\Uni\\Hiwi\\Git Repo ipynb\\ETCE-Exercises\\E05\\driver.py:117\u001B[0m, in \u001B[0;36mcheck_solution_A\u001B[1;34m(solution, solar, wind)\u001B[0m\n\u001B[0;32m     83\u001B[0m     solar_tests \u001B[38;5;241m=\u001B[39m [({\u001B[38;5;124m'\u001B[39m\u001B[38;5;124muuid\u001B[39m\u001B[38;5;124m'\u001B[39m: \u001B[38;5;124m'\u001B[39m\u001B[38;5;124m00000000\u001B[39m\u001B[38;5;124m'\u001B[39m,\n\u001B[0;32m     84\u001B[0m                      \u001B[38;5;124m'\u001B[39m\u001B[38;5;124mtimestamp\u001B[39m\u001B[38;5;124m'\u001B[39m: \u001B[38;5;241m1618047000\u001B[39m,\n\u001B[0;32m     85\u001B[0m                      \u001B[38;5;124m'\u001B[39m\u001B[38;5;124mtemp\u001B[39m\u001B[38;5;124m'\u001B[39m: \u001B[38;5;241m5.33\u001B[39m,\n\u001B[1;32m   (...)\u001B[0m\n\u001B[0;32m     97\u001B[0m                      \u001B[38;5;124m'\u001B[39m\u001B[38;5;124mwind_gust\u001B[39m\u001B[38;5;124m'\u001B[39m: \u001B[38;5;241m4.1\u001B[39m,\n\u001B[0;32m     98\u001B[0m                      \u001B[38;5;124m'\u001B[39m\u001B[38;5;124mrain\u001B[39m\u001B[38;5;124m'\u001B[39m: \u001B[38;5;241m1.54\u001B[39m}, \u001B[38;5;241m0.0\u001B[39m)]\n\u001B[0;32m    100\u001B[0m     wind_tests \u001B[38;5;241m=\u001B[39m [({\u001B[38;5;124m'\u001B[39m\u001B[38;5;124muuid\u001B[39m\u001B[38;5;124m'\u001B[39m: \u001B[38;5;124m'\u001B[39m\u001B[38;5;124m00000000\u001B[39m\u001B[38;5;124m'\u001B[39m,\n\u001B[0;32m    101\u001B[0m                     \u001B[38;5;124m'\u001B[39m\u001B[38;5;124mtimestamp\u001B[39m\u001B[38;5;124m'\u001B[39m: \u001B[38;5;241m1618047000\u001B[39m,\n\u001B[0;32m    102\u001B[0m                     \u001B[38;5;124m'\u001B[39m\u001B[38;5;124mtemp\u001B[39m\u001B[38;5;124m'\u001B[39m: \u001B[38;5;241m5.33\u001B[39m,\n\u001B[1;32m   (...)\u001B[0m\n\u001B[0;32m    114\u001B[0m                     \u001B[38;5;124m'\u001B[39m\u001B[38;5;124mwind_gust\u001B[39m\u001B[38;5;124m'\u001B[39m: \u001B[38;5;241m4.1\u001B[39m,\n\u001B[0;32m    115\u001B[0m                     \u001B[38;5;124m'\u001B[39m\u001B[38;5;124mrain\u001B[39m\u001B[38;5;124m'\u001B[39m: \u001B[38;5;241m1.54\u001B[39m}, \u001B[38;5;241m0.0\u001B[39m)]\n\u001B[1;32m--> 117\u001B[0m     solar_unit_pass \u001B[38;5;241m=\u001B[39m (\u001B[43msolar\u001B[49m\u001B[43m(\u001B[49m\u001B[43msolar_tests\u001B[49m\u001B[43m[\u001B[49m\u001B[38;5;241;43m0\u001B[39;49m\u001B[43m]\u001B[49m\u001B[43m[\u001B[49m\u001B[38;5;241;43m0\u001B[39;49m\u001B[43m]\u001B[49m\u001B[43m)\u001B[49m\u001B[43m \u001B[49m\u001B[38;5;241;43m==\u001B[39;49m\u001B[43m \u001B[49m\u001B[43mETCEFloat\u001B[49m\u001B[43m(\u001B[49m\u001B[43msolar_tests\u001B[49m\u001B[43m[\u001B[49m\u001B[38;5;241;43m0\u001B[39;49m\u001B[43m]\u001B[49m\u001B[43m[\u001B[49m\u001B[38;5;241;43m1\u001B[39;49m\u001B[43m]\u001B[49m\u001B[43m)\u001B[49m) \u001B[38;5;129;01mand\u001B[39;00m (\n\u001B[0;32m    118\u001B[0m                 solar(solar_tests[\u001B[38;5;241m1\u001B[39m][\u001B[38;5;241m0\u001B[39m]) \u001B[38;5;241m==\u001B[39m ETCEFloat(solar_tests[\u001B[38;5;241m1\u001B[39m][\u001B[38;5;241m1\u001B[39m]))\n\u001B[0;32m    120\u001B[0m     \u001B[38;5;28;01mif\u001B[39;00m \u001B[38;5;129;01mnot\u001B[39;00m solar_unit_pass:\n\u001B[0;32m    121\u001B[0m         \u001B[38;5;28mprint\u001B[39m(\u001B[38;5;124m\"\u001B[39m\u001B[38;5;124mThe `solar()` function is not predicting the power output \u001B[39m\u001B[38;5;130;01m\\\u001B[39;00m\n\u001B[0;32m    122\u001B[0m \u001B[38;5;124mof the solar farm correctly. Please check your computations.\u001B[39m\u001B[38;5;130;01m\\\u001B[39;00m\n\u001B[0;32m    123\u001B[0m \u001B[38;5;124mAlso remember that you have to convert the timestamp to CEST\u001B[39m\u001B[38;5;124m\"\u001B[39m)\n",
      "File \u001B[1;32m~\\Uni\\Hiwi\\Git Repo ipynb\\ETCE-Exercises\\E05\\driver.py:12\u001B[0m, in \u001B[0;36mETCEFloat.__eq__\u001B[1;34m(self, other)\u001B[0m\n\u001B[0;32m     11\u001B[0m \u001B[38;5;28;01mdef\u001B[39;00m \u001B[38;5;21m__eq__\u001B[39m(\u001B[38;5;28mself\u001B[39m, other):\n\u001B[1;32m---> 12\u001B[0m     \u001B[38;5;28;01mreturn\u001B[39;00m (\u001B[38;5;28mabs\u001B[39m(Decimal(\u001B[38;5;28mstr\u001B[39m(\u001B[38;5;28mself\u001B[39m)) \u001B[38;5;241m-\u001B[39m \u001B[43mDecimal\u001B[49m\u001B[43m(\u001B[49m\u001B[38;5;28;43mstr\u001B[39;49m\u001B[43m(\u001B[49m\u001B[43mother\u001B[49m\u001B[43m)\u001B[49m\u001B[43m)\u001B[49m) \u001B[38;5;241m<\u001B[39m\u001B[38;5;241m=\u001B[39m \u001B[38;5;28mself\u001B[39m\u001B[38;5;241m.\u001B[39meps)\n",
      "\u001B[1;31mInvalidOperation\u001B[0m: [<class 'decimal.ConversionSyntax'>]"
     ]
    }
   ],
   "source": [
    "from driver import evaluate\n",
    "wd.i = 0\n",
    "evaluate(solution, solar, wind)"
   ]
  }
 ],
 "metadata": {
  "kernelspec": {
   "display_name": "Python 3 (ipykernel)",
   "language": "python",
   "name": "python3"
  },
  "language_info": {
   "codemirror_mode": {
    "name": "ipython",
    "version": 3
   },
   "file_extension": ".py",
   "mimetype": "text/x-python",
   "name": "python",
   "nbconvert_exporter": "python",
   "pygments_lexer": "ipython3",
   "version": "3.11.7"
  }
 },
 "nbformat": 4,
 "nbformat_minor": 5
}
