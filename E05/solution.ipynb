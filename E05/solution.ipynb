{
 "cells": [
  {
   "cell_type": "code",
   "execution_count": 1,
   "id": "initial_id",
   "metadata": {},
   "outputs": [],
   "source": [
    "import ETCE.ScenarioA.Ex04.weather_data as wd\n",
    "\n",
    "# DO NOT REMOVE THE ABOVE IMPORT.\n",
    "# Additionally, you can import any python standard library"
   ]
  },
  {
   "cell_type": "markdown",
   "id": "1ca940f85b027000",
   "metadata": {
    "collapsed": false,
    "jupyter": {
     "outputs_hidden": false
    }
   },
   "source": [
    "This function must accept a weather prediction of the form:\n",
    "\n",
    "    {\"uuid\" : \"some-uuid\",    \n",
    "    \"timestamp\": 00000000,\n",
    "    \"temp\":5.33,\n",
    "    \"clouds\":100.0,\n",
    "    \"wind_speed\":2.48,\n",
    "    \"wind_deg\":31.0,\n",
    "    \"wind_gust\":4.1,\n",
    "    \"rain\":1.54\n",
    "    }\n",
    "    \n",
    "Return the predicted power output of the solar farm.\n",
    "\n",
    "Solar farm Capacity:    50kW\n",
    "Solar farm gives 0kW output from 9pm to 6am    \n",
    "\n",
    "Solar Farm output is linear in cloudiness:\n",
    "Clouds=0% => Solar Farm outputs at 100% Capacity\n",
    "Clouds=100% => Solar Farm outputs at 10% Capacity"
   ]
  },
  {
   "cell_type": "code",
   "execution_count": 6,
   "id": "a05f53db04868ca3",
   "metadata": {
    "collapsed": false,
    "jupyter": {
     "outputs_hidden": false
    }
   },
   "outputs": [],
   "source": [
    "def solar(weather_prediction) -> float: \n",
    "    time = datetime.datetime.utcfromtimestamp(weather_prediction[\"timestamp\"]) + datetime.timedelta(hours=2)\n",
    "    perc = 100\n",
    "    if not (6 <= time.hour and (time - datetime.timedelta(seconds=1)).hour <= 20):\n",
    "        perc *= 0\n",
    "    max_power = 50.0\n",
    "    min_clouds = 10.0\n",
    "    max_clouds = 100.0\n",
    "    perc *= ( max_clouds - (100.0 - min_clouds) * (weather_prediction[\"clouds\"] / 100) )/100.0\n",
    "    op = max_power * perc/ 100.0\n",
    "    return op\n",
    "\n"
   ]
  },
  {
   "cell_type": "markdown",
   "id": "f591d1869ce81731",
   "metadata": {
    "collapsed": false,
    "jupyter": {
     "outputs_hidden": false
    }
   },
   "source": [
    "This function must accept a weather prediction of the form:\n",
    "\n",
    "    {\"uuid\" : \"some-uuid\",\n",
    "    \"timestamp\": 00000000,\n",
    "    \"temp\":5.33,\n",
    "    \"clouds\":100.0,\n",
    "    \"wind_speed\":2.48,\n",
    "    \"wind_deg\":31.0,\n",
    "    \"wind_gust\":4.1,\n",
    "    \"rain\":1.54\n",
    "    }\n",
    "    \n",
    "Return the predicted power output of the wind farm.\n",
    "\n",
    "Wind farm Capacity: 50kW    \n",
    "Wind Farm output % is linear in wind_speed\n",
    "\n",
    "Wind Farm cut in speed = 3m/s\n",
    "Wind Farm rated speed = 11m/s"
   ]
  },
  {
   "cell_type": "code",
   "execution_count": 8,
   "id": "92dca8b648284205",
   "metadata": {
    "collapsed": false,
    "jupyter": {
     "outputs_hidden": false
    }
   },
   "outputs": [],
   "source": [
    "def wind(weather_prediction) -> float:\n",
    "    perc = 100\n",
    "    max_power = 50.0\n",
    "    cut_in_speed = 3\n",
    "    rated_speed = 11\n",
    "\n",
    "    ws = weather_prediction[\"wind_speed\"]\n",
    "    if ws <= cut_in_speed:\n",
    "        perc *= 0\n",
    "\n",
    "    perc *= (min(ws, rated_speed) - cut_in_speed)/(rated_speed - cut_in_speed)\n",
    "    op = max_power * perc/ 100\n",
    "    return op\n",
    "\n"
   ]
  },
  {
   "cell_type": "markdown",
   "id": "9aa84c7e5d6795a",
   "metadata": {
    "collapsed": false,
    "jupyter": {
     "outputs_hidden": false
    }
   },
   "source": [
    "This function should return the solution to the Ex04\n",
    "\n",
    "Return a tuple with the following structure:\n",
    "\n",
    "    (({<integer timestamp>: \n",
    "     {\"power_output\":<float (kW)>,\n",
    "      \"energy_accumulated\":<float kWh>},\n",
    "     ...,\n",
    "     }, <float average power output in %>),\n",
    "    ({<integer timestamp>: \n",
    "     {\"power_output\":<float (kW)>,\n",
    "      \"energy_accumulated\":<float kWh>},\n",
    "     ...,\n",
    "     }, <float average power output in %>))\n",
    "\n",
    "power_output must correspond to the timestamp (result of a call to\n",
    "solar() and wind()).\n",
    "\n",
    "energy_accumulated must be total energy accumulated until that\n",
    "timestamp (assumed to be 0 at the first timestamp)\n",
    "\n",
    "The first and second nested tuples represent the power output of\n",
    "the solar and wind farms respectively"
   ]
  },
  {
   "cell_type": "code",
   "execution_count": 4,
   "id": "fc168c19711d5fd2",
   "metadata": {
    "collapsed": false,
    "jupyter": {
     "outputs_hidden": false
    }
   },
   "outputs": [],
   "source": [
    "def solution():\n",
    "    weather_predictions = wd.get_predictions()  # Datastructure created in Ex04 solutions  \n",
    "    \n",
    "    # Loop over the predictions and compute the power output\n",
    "    return (({0000:\n",
    "                  {\"power_output\":19,\n",
    "                   \"energy_accumulated\":0}# ,\n",
    "              # ...,\n",
    "              }, 19),\n",
    "            ({0000:\n",
    "                  {\"power_output\":22,\n",
    "                   \"energy_accumulated\":0}# ,\n",
    "              # ...,\n",
    "              }, 20))"
   ]
  },
  {
   "cell_type": "markdown",
   "id": "f13c757a624e4f1d",
   "metadata": {
    "collapsed": false,
    "jupyter": {
     "outputs_hidden": false
    }
   },
   "source": [
    "Evaluate your solution:"
   ]
  },
  {
   "cell_type": "code",
   "execution_count": 5,
   "id": "ab2971be159411bd",
   "metadata": {
    "collapsed": false,
    "jupyter": {
     "outputs_hidden": false
    },
    "scrolled": true
   },
   "outputs": [
    {
     "name": "stdout",
     "output_type": "stream",
     "text": [
      "solution() failed to run:\n"
     ]
    },
    {
     "ename": "InvalidOperation",
     "evalue": "[<class 'decimal.ConversionSyntax'>]",
     "output_type": "error",
     "traceback": [
      "\u001b[0;31m---------------------------------------------------------------------------\u001b[0m",
      "\u001b[0;31mInvalidOperation\u001b[0m                          Traceback (most recent call last)",
      "Cell \u001b[0;32mIn[5], line 3\u001b[0m\n\u001b[1;32m      1\u001b[0m \u001b[38;5;28;01mfrom\u001b[39;00m \u001b[38;5;21;01mdriver\u001b[39;00m \u001b[38;5;28;01mimport\u001b[39;00m evaluate\n\u001b[1;32m      2\u001b[0m wd\u001b[38;5;241m.\u001b[39mi \u001b[38;5;241m=\u001b[39m \u001b[38;5;241m0\u001b[39m\n\u001b[0;32m----> 3\u001b[0m \u001b[43mevaluate\u001b[49m\u001b[43m(\u001b[49m\u001b[43msolution\u001b[49m\u001b[43m,\u001b[49m\u001b[43m \u001b[49m\u001b[43msolar\u001b[49m\u001b[43m,\u001b[49m\u001b[43m \u001b[49m\u001b[43mwind\u001b[49m\u001b[43m)\u001b[49m\n",
      "File \u001b[0;32m~/Test/ETCE-Exercises/E05/driver.py:195\u001b[0m, in \u001b[0;36mevaluate\u001b[0;34m(solution, solar, wind)\u001b[0m\n\u001b[1;32m    192\u001b[0m \u001b[38;5;28;01mdef\u001b[39;00m \u001b[38;5;21mevaluate\u001b[39m(\n\u001b[1;32m    193\u001b[0m         solution, solar, wind\n\u001b[1;32m    194\u001b[0m ):\n\u001b[0;32m--> 195\u001b[0m     e \u001b[38;5;241m=\u001b[39m \u001b[43mevaluation\u001b[49m\u001b[43m(\u001b[49m\n\u001b[1;32m    196\u001b[0m \u001b[43m        \u001b[49m\u001b[43msolution\u001b[49m\u001b[43m,\u001b[49m\n\u001b[1;32m    197\u001b[0m \u001b[43m        \u001b[49m\u001b[43msolar\u001b[49m\u001b[43m,\u001b[49m\n\u001b[1;32m    198\u001b[0m \u001b[43m        \u001b[49m\u001b[43mwind\u001b[49m\u001b[43m,\u001b[49m\n\u001b[1;32m    199\u001b[0m \u001b[43m    \u001b[49m\u001b[43m)\u001b[49m\n\u001b[1;32m    201\u001b[0m     \u001b[38;5;28mprint\u001b[39m(\u001b[38;5;124mf\u001b[39m\u001b[38;5;124m\"\u001b[39m\u001b[38;5;124mGrade = \u001b[39m\u001b[38;5;132;01m{\u001b[39;00me[\u001b[38;5;241m0\u001b[39m]\u001b[38;5;132;01m}\u001b[39;00m\u001b[38;5;124m%\u001b[39m\u001b[38;5;124m\"\u001b[39m)\n\u001b[1;32m    203\u001b[0m     \u001b[38;5;28;01mif\u001b[39;00m e[\u001b[38;5;241m0\u001b[39m] \u001b[38;5;241m==\u001b[39m \u001b[38;5;241m100\u001b[39m:\n",
      "File \u001b[0;32m~/Test/ETCE-Exercises/E05/driver.py:188\u001b[0m, in \u001b[0;36mevaluation\u001b[0;34m(solution, solar, wind)\u001b[0m\n\u001b[1;32m    186\u001b[0m \u001b[38;5;28;01mexcept\u001b[39;00m \u001b[38;5;167;01mException\u001b[39;00m \u001b[38;5;28;01mas\u001b[39;00m E:\n\u001b[1;32m    187\u001b[0m     \u001b[38;5;28mprint\u001b[39m(\u001b[38;5;124m\"\u001b[39m\u001b[38;5;124msolution() failed to run:\u001b[39m\u001b[38;5;124m\"\u001b[39m)\n\u001b[0;32m--> 188\u001b[0m     \u001b[38;5;28;01mraise\u001b[39;00m (E)\n\u001b[1;32m    189\u001b[0m \u001b[38;5;28;01mreturn\u001b[39;00m (evaluation_A \u001b[38;5;241m*\u001b[39m \u001b[38;5;241m100\u001b[39m,)\n",
      "File \u001b[0;32m~/Test/ETCE-Exercises/E05/driver.py:177\u001b[0m, in \u001b[0;36mevaluation\u001b[0;34m(solution, solar, wind)\u001b[0m\n\u001b[1;32m    174\u001b[0m evaluation_A \u001b[38;5;241m=\u001b[39m \u001b[38;5;241m0\u001b[39m\n\u001b[1;32m    175\u001b[0m \u001b[38;5;28;01mtry\u001b[39;00m:\n\u001b[1;32m    176\u001b[0m     \u001b[38;5;28;01mfor\u001b[39;00m (success, weight) \u001b[38;5;129;01min\u001b[39;00m \u001b[38;5;28mzip\u001b[39m(\n\u001b[0;32m--> 177\u001b[0m         \u001b[43mcheck_solution_A\u001b[49m\u001b[43m(\u001b[49m\n\u001b[1;32m    178\u001b[0m \u001b[43m            \u001b[49m\u001b[43msolution\u001b[49m\u001b[43m,\u001b[49m\n\u001b[1;32m    179\u001b[0m \u001b[43m            \u001b[49m\u001b[43msolar\u001b[49m\u001b[43m,\u001b[49m\n\u001b[1;32m    180\u001b[0m \u001b[43m            \u001b[49m\u001b[43mwind\u001b[49m\u001b[43m,\u001b[49m\n\u001b[1;32m    181\u001b[0m \u001b[43m        \u001b[49m\u001b[43m)\u001b[49m,\n\u001b[1;32m    182\u001b[0m         weighting_a,\n\u001b[1;32m    183\u001b[0m     ):\n\u001b[1;32m    184\u001b[0m         \u001b[38;5;28;01mif\u001b[39;00m success:\n\u001b[1;32m    185\u001b[0m             evaluation_A \u001b[38;5;241m+\u001b[39m\u001b[38;5;241m=\u001b[39m weight\n",
      "File \u001b[0;32m~/Test/ETCE-Exercises/E05/driver.py:117\u001b[0m, in \u001b[0;36mcheck_solution_A\u001b[0;34m(solution, solar, wind)\u001b[0m\n\u001b[1;32m     83\u001b[0m     solar_tests \u001b[38;5;241m=\u001b[39m [({\u001b[38;5;124m'\u001b[39m\u001b[38;5;124muuid\u001b[39m\u001b[38;5;124m'\u001b[39m: \u001b[38;5;124m'\u001b[39m\u001b[38;5;124m00000000\u001b[39m\u001b[38;5;124m'\u001b[39m,\n\u001b[1;32m     84\u001b[0m                      \u001b[38;5;124m'\u001b[39m\u001b[38;5;124mtimestamp\u001b[39m\u001b[38;5;124m'\u001b[39m: \u001b[38;5;241m1618047000\u001b[39m,\n\u001b[1;32m     85\u001b[0m                      \u001b[38;5;124m'\u001b[39m\u001b[38;5;124mtemp\u001b[39m\u001b[38;5;124m'\u001b[39m: \u001b[38;5;241m5.33\u001b[39m,\n\u001b[0;32m   (...)\u001b[0m\n\u001b[1;32m     97\u001b[0m                      \u001b[38;5;124m'\u001b[39m\u001b[38;5;124mwind_gust\u001b[39m\u001b[38;5;124m'\u001b[39m: \u001b[38;5;241m4.1\u001b[39m,\n\u001b[1;32m     98\u001b[0m                      \u001b[38;5;124m'\u001b[39m\u001b[38;5;124mrain\u001b[39m\u001b[38;5;124m'\u001b[39m: \u001b[38;5;241m1.54\u001b[39m}, \u001b[38;5;241m0.0\u001b[39m)]\n\u001b[1;32m    100\u001b[0m     wind_tests \u001b[38;5;241m=\u001b[39m [({\u001b[38;5;124m'\u001b[39m\u001b[38;5;124muuid\u001b[39m\u001b[38;5;124m'\u001b[39m: \u001b[38;5;124m'\u001b[39m\u001b[38;5;124m00000000\u001b[39m\u001b[38;5;124m'\u001b[39m,\n\u001b[1;32m    101\u001b[0m                     \u001b[38;5;124m'\u001b[39m\u001b[38;5;124mtimestamp\u001b[39m\u001b[38;5;124m'\u001b[39m: \u001b[38;5;241m1618047000\u001b[39m,\n\u001b[1;32m    102\u001b[0m                     \u001b[38;5;124m'\u001b[39m\u001b[38;5;124mtemp\u001b[39m\u001b[38;5;124m'\u001b[39m: \u001b[38;5;241m5.33\u001b[39m,\n\u001b[0;32m   (...)\u001b[0m\n\u001b[1;32m    114\u001b[0m                     \u001b[38;5;124m'\u001b[39m\u001b[38;5;124mwind_gust\u001b[39m\u001b[38;5;124m'\u001b[39m: \u001b[38;5;241m4.1\u001b[39m,\n\u001b[1;32m    115\u001b[0m                     \u001b[38;5;124m'\u001b[39m\u001b[38;5;124mrain\u001b[39m\u001b[38;5;124m'\u001b[39m: \u001b[38;5;241m1.54\u001b[39m}, \u001b[38;5;241m0.0\u001b[39m)]\n\u001b[0;32m--> 117\u001b[0m     solar_unit_pass \u001b[38;5;241m=\u001b[39m (\u001b[43msolar\u001b[49m\u001b[43m(\u001b[49m\u001b[43msolar_tests\u001b[49m\u001b[43m[\u001b[49m\u001b[38;5;241;43m0\u001b[39;49m\u001b[43m]\u001b[49m\u001b[43m[\u001b[49m\u001b[38;5;241;43m0\u001b[39;49m\u001b[43m]\u001b[49m\u001b[43m)\u001b[49m\u001b[43m \u001b[49m\u001b[38;5;241;43m==\u001b[39;49m\u001b[43m \u001b[49m\u001b[43mETCEFloat\u001b[49m\u001b[43m(\u001b[49m\u001b[43msolar_tests\u001b[49m\u001b[43m[\u001b[49m\u001b[38;5;241;43m0\u001b[39;49m\u001b[43m]\u001b[49m\u001b[43m[\u001b[49m\u001b[38;5;241;43m1\u001b[39;49m\u001b[43m]\u001b[49m\u001b[43m)\u001b[49m) \u001b[38;5;129;01mand\u001b[39;00m (\n\u001b[1;32m    118\u001b[0m                 solar(solar_tests[\u001b[38;5;241m1\u001b[39m][\u001b[38;5;241m0\u001b[39m]) \u001b[38;5;241m==\u001b[39m ETCEFloat(solar_tests[\u001b[38;5;241m1\u001b[39m][\u001b[38;5;241m1\u001b[39m]))\n\u001b[1;32m    120\u001b[0m     \u001b[38;5;28;01mif\u001b[39;00m \u001b[38;5;129;01mnot\u001b[39;00m solar_unit_pass:\n\u001b[1;32m    121\u001b[0m         \u001b[38;5;28mprint\u001b[39m(\u001b[38;5;124m\"\u001b[39m\u001b[38;5;124mThe `solar()` function is not predicting the power output \u001b[39m\u001b[38;5;130;01m\\\u001b[39;00m\n\u001b[1;32m    122\u001b[0m \u001b[38;5;124mof the solar farm correctly. Please check your computations.\u001b[39m\u001b[38;5;130;01m\\\u001b[39;00m\n\u001b[1;32m    123\u001b[0m \u001b[38;5;124mAlso remember that you have to convert the timestamp to CEST\u001b[39m\u001b[38;5;124m\"\u001b[39m)\n",
      "File \u001b[0;32m~/Test/ETCE-Exercises/E05/driver.py:12\u001b[0m, in \u001b[0;36mETCEFloat.__eq__\u001b[0;34m(self, other)\u001b[0m\n\u001b[1;32m     11\u001b[0m \u001b[38;5;28;01mdef\u001b[39;00m \u001b[38;5;21m__eq__\u001b[39m(\u001b[38;5;28mself\u001b[39m, other):\n\u001b[0;32m---> 12\u001b[0m     \u001b[38;5;28;01mreturn\u001b[39;00m (\u001b[38;5;28mabs\u001b[39m(Decimal(\u001b[38;5;28mstr\u001b[39m(\u001b[38;5;28mself\u001b[39m)) \u001b[38;5;241m-\u001b[39m \u001b[43mDecimal\u001b[49m\u001b[43m(\u001b[49m\u001b[38;5;28;43mstr\u001b[39;49m\u001b[43m(\u001b[49m\u001b[43mother\u001b[49m\u001b[43m)\u001b[49m\u001b[43m)\u001b[49m) \u001b[38;5;241m<\u001b[39m\u001b[38;5;241m=\u001b[39m \u001b[38;5;28mself\u001b[39m\u001b[38;5;241m.\u001b[39meps)\n",
      "\u001b[0;31mInvalidOperation\u001b[0m: [<class 'decimal.ConversionSyntax'>]"
     ]
    }
   ],
   "source": [
    "from driver import evaluate\n",
    "wd.i = 0\n",
    "evaluate(solution, solar, wind)"
   ]
  },
  {
   "cell_type": "code",
   "execution_count": null,
   "id": "bea68197-2cea-4422-bda7-7691f7c95158",
   "metadata": {},
   "outputs": [],
   "source": []
  },
  {
   "cell_type": "code",
   "execution_count": null,
   "id": "ca6d391b-6db0-48e1-a0ce-e90bf34a8516",
   "metadata": {},
   "outputs": [],
   "source": []
  }
 ],
 "metadata": {
  "kernelspec": {
   "display_name": "Python 3 (ipykernel)",
   "language": "python",
   "name": "python3"
  },
  "language_info": {
   "codemirror_mode": {
    "name": "ipython",
    "version": 3
   },
   "file_extension": ".py",
   "mimetype": "text/x-python",
   "name": "python",
   "nbconvert_exporter": "python",
   "pygments_lexer": "ipython3",
   "version": "3.11.7"
  }
 },
 "nbformat": 4,
 "nbformat_minor": 5
}
