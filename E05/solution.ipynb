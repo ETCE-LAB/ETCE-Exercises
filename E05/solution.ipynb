{
 "cells": [
  {
   "cell_type": "code",
   "execution_count": 16,
   "id": "initial_id",
   "metadata": {},
   "outputs": [],
   "source": [
    "import ETCE.ScenarioA.Ex04.weather_data as wd\n",
    "import datetime\n",
    "# DO NOT REMOVE THE ABOVE IMPORT.\n",
    "# Additionally, you can import any python standard library"
   ]
  },
  {
   "cell_type": "markdown",
   "id": "1ca940f85b027000",
   "metadata": {
    "collapsed": false,
    "jupyter": {
     "outputs_hidden": false
    }
   },
   "source": [
    "This function must accept a weather prediction of the form:\n",
    "\n",
    "    {\"uuid\" : \"some-uuid\",    \n",
    "    \"timestamp\": 00000000,\n",
    "    \"temp\":5.33,\n",
    "    \"clouds\":100.0,\n",
    "    \"wind_speed\":2.48,\n",
    "    \"wind_deg\":31.0,\n",
    "    \"wind_gust\":4.1,\n",
    "    \"rain\":1.54\n",
    "    }\n",
    "    \n",
    "Return the predicted power output of the solar farm.\n",
    "\n",
    "Solar farm Capacity:    50kW\n",
    "Solar farm gives 0kW output from 9pm to 6am    \n",
    "\n",
    "Solar Farm output is linear in cloudiness:\n",
    "Clouds=0% => Solar Farm outputs at 100% Capacity\n",
    "Clouds=100% => Solar Farm outputs at 10% Capacity"
   ]
  },
  {
   "cell_type": "code",
   "execution_count": 14,
   "id": "a05f53db04868ca3",
   "metadata": {
    "collapsed": false,
    "jupyter": {
     "outputs_hidden": false
    }
   },
   "outputs": [],
   "source": [
    "def solar(weather_prediction) -> float:\n",
    "    # return float(power_output)\n",
    "    pass"
   ]
  },
  {
   "cell_type": "markdown",
   "id": "f591d1869ce81731",
   "metadata": {
    "collapsed": false,
    "jupyter": {
     "outputs_hidden": false
    }
   },
   "source": [
    "This function must accept a weather prediction of the form:\n",
    "\n",
    "    {\"uuid\" : \"some-uuid\",\n",
    "    \"timestamp\": 00000000,\n",
    "    \"temp\":5.33,\n",
    "    \"clouds\":100.0,\n",
    "    \"wind_speed\":2.48,\n",
    "    \"wind_deg\":31.0,\n",
    "    \"wind_gust\":4.1,\n",
    "    \"rain\":1.54\n",
    "    }\n",
    "    \n",
    "Return the predicted power output of the wind farm.\n",
    "\n",
    "Wind farm Capacity: 50kW    \n",
    "Wind Farm output % is linear in wind_speed\n",
    "\n",
    "Wind Farm cut in speed = 3m/s\n",
    "Wind Farm rated speed = 11m/s"
   ]
  },
  {
   "cell_type": "code",
   "execution_count": 13,
   "id": "92dca8b648284205",
   "metadata": {
    "collapsed": false,
    "jupyter": {
     "outputs_hidden": false
    }
   },
   "outputs": [],
   "source": [
    "def wind(weather_prediction) -> float:\n",
    "    #return float(power_output)\n",
    "    pass"
   ]
  },
  {
   "cell_type": "markdown",
   "id": "9aa84c7e5d6795a",
   "metadata": {
    "collapsed": false,
    "jupyter": {
     "outputs_hidden": false
    }
   },
   "source": [
    "This function should return the solution to the Ex04\n",
    "\n",
    "Return a tuple with the following structure:\n",
    "\n",
    "    (({<integer timestamp>: \n",
    "     {\"power_output\":<float (kW)>,\n",
    "      \"energy_accumulated\":<float kWh>},\n",
    "     ...,\n",
    "     }, <float average power output in %>),\n",
    "    ({<integer timestamp>: \n",
    "     {\"power_output\":<float (kW)>,\n",
    "      \"energy_accumulated\":<float kWh>},\n",
    "     ...,\n",
    "     }, <float average power output in %>))\n",
    "\n",
    "power_output must correspond to the timestamp (result of a call to\n",
    "solar() and wind()).\n",
    "\n",
    "energy_accumulated must be total energy accumulated until that\n",
    "timestamp (assumed to be 0 at the first timestamp)\n",
    "\n",
    "The first and second nested tuples represent the power output of\n",
    "the solar and wind farms respectively"
   ]
  },
  {
   "cell_type": "code",
   "execution_count": 15,
   "id": "fc168c19711d5fd2",
   "metadata": {
    "collapsed": false,
    "jupyter": {
     "outputs_hidden": false
    }
   },
   "outputs": [],
   "source": [
    "def solution():\n",
    "    weather_predictions = wd.get_predictions()  # Datastructure created in Ex04 solutions  \n",
    "    \n",
    "    # Loop over the predictions and compute the power output\n",
    "    return (({0000:\n",
    "                  {\"power_output\":19,\n",
    "                   \"energy_accumulated\":0}# ,\n",
    "              # ...,\n",
    "              }, 19),\n",
    "            ({0000:\n",
    "                  {\"power_output\":22,\n",
    "                   \"energy_accumulated\":0}# ,\n",
    "              # ...,\n",
    "              }, 20))"
   ]
  },
  {
   "cell_type": "markdown",
   "id": "f13c757a624e4f1d",
   "metadata": {
    "collapsed": false,
    "jupyter": {
     "outputs_hidden": false
    }
   },
   "source": [
    "Evaluate your solution:"
   ]
  },
  {
   "cell_type": "code",
   "execution_count": 17,
   "id": "ab2971be159411bd",
   "metadata": {
    "collapsed": false,
    "jupyter": {
     "outputs_hidden": false
    }
   },
   "outputs": [
    {
     "name": "stdout",
     "output_type": "stream",
     "text": [
      "Grade = 100.0%\n",
      "Perfect Score\n"
     ]
    }
   ],
   "source": [
    "from driver import evaluate\n",
    "wd.i = 0\n",
    "evaluate(solution, solar, wind)"
   ]
  }
 ],
 "metadata": {
  "kernelspec": {
   "display_name": "Python 3 (ipykernel)",
   "language": "python",
   "name": "python3"
  },
  "language_info": {
   "codemirror_mode": {
    "name": "ipython",
    "version": 3
   },
   "file_extension": ".py",
   "mimetype": "text/x-python",
   "name": "python",
   "nbconvert_exporter": "python",
   "pygments_lexer": "ipython3",
   "version": "3.11.7"
  }
 },
 "nbformat": 4,
 "nbformat_minor": 5
}
