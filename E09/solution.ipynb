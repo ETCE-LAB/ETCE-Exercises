{
 "cells": [
  {
   "cell_type": "code",
   "execution_count": null,
   "outputs": [],
   "source": [
    "import ETCE.blockchain\n",
    "import _hashlib"
   ],
   "metadata": {
    "collapsed": false
   },
   "id": "db5a72536d6bd272"
  },
  {
   "cell_type": "markdown",
   "source": [
    "Implement a Transaction Class by overriding the methods defined in \n",
    "ETCE.blockchain.Ex08Transaction, where indicated.\n",
    "\n",
    "Please read the additional instructions for all the functions of\n",
    "this class in `ETCE/blockchain.py`"
   ],
   "metadata": {
    "collapsed": false
   },
   "id": "eef398ed3a6820cd"
  },
  {
   "cell_type": "code",
   "execution_count": null,
   "outputs": [],
   "source": [
    "class Ex08Transaction(ETCE.blockchain.Ex08Transaction):\n",
    "\n",
    "    def __init__(self):\n",
    "        super(Ex08Transaction, self).__init__()\n",
    "\n",
    "    def __str__(self) -> str:\n",
    "        pass\n",
    "\n",
    "    def hash(self) -> _hashlib.HASH:\n",
    "        pass"
   ],
   "metadata": {
    "collapsed": false
   },
   "id": "87cc04a3cc1b7b6b"
  },
  {
   "cell_type": "markdown",
   "source": [
    "Implement a Block Class by overriding the methods defined in ETCE.blockchain.Ex08Block"
   ],
   "metadata": {
    "collapsed": false
   },
   "id": "8c342a95d0fb2c4d"
  },
  {
   "cell_type": "code",
   "execution_count": null,
   "outputs": [],
   "source": [
    "class Ex08Block(ETCE.blockchain.Ex08Block):\n",
    "    def __init__(self):\n",
    "        super(Ex08Block, self).__init__()\n",
    "\n",
    "    def __str__(self):\n",
    "        pass\n",
    "\n",
    "    def hash(self) -> _hashlib.HASH:\n",
    "        pass"
   ],
   "metadata": {
    "collapsed": false
   },
   "id": "e7eefad5769fd888"
  },
  {
   "cell_type": "markdown",
   "source": [
    "Implement a Blockchain Class by overriding the methods defined in ETCE.blockchain.Ex08Blockchain"
   ],
   "metadata": {
    "collapsed": false
   },
   "id": "510b275f371c1444"
  },
  {
   "cell_type": "code",
   "execution_count": null,
   "outputs": [],
   "source": [
    "class Ex08Blockchain(ETCE.blockchain.Ex08Blockchain):\n",
    "    def __init__(self, initial_block, addresses):\n",
    "        super(Ex08Blockchain, self).__init__(initial_block, addresses)\n",
    "\n",
    "\n",
    "    def validate_new_block(self, newblock) -> ( bool, dict ):\n",
    "        pass"
   ],
   "metadata": {
    "collapsed": false
   },
   "id": "af4624de79a58329"
  },
  {
   "cell_type": "markdown",
   "source": [
    "Create an instance of the ETCE.blockchain.Ex08Blockchain class,\n",
    "with some initial block with transactions that simply initialize ~\n",
    "5-10 addresses with some tokens. These transactions are assumed to\n",
    "be valid. You can use any random strings as the addresses, but the\n",
    "following addresses; 'address1', 'address2' and 'address3' must\n",
    "also exist in these transactions that can spend 100, 200, and 10\n",
    "tokens respectively.\n",
    "\n",
    "<span style=\"font-weight:bold\">Hint: A transaction with an empty list of inputs, with an output:\n",
    "    {\"address\" : \"addressXYZ\", \"amount\": 1000}, \n",
    "will allow the address \"addressXYZ\" to spend the tokens from this output.</span>\n",
    "\n",
    "Create valid ETCE.blockchain.Ex08Transactions (in the same order) for the following actions:\n",
    "\n",
    "   1.   Send 10 tokens from 'address1' to 'address3', using 1 token as\n",
    "        a transaction fee. (Transaction fee = Sum of inputs - Sum of\n",
    "        outputs; Simply spending 1 token less in the outputs implicitly\n",
    "        designates 1 token as the mining fee for this transaction)\n",
    "\n",
    "   2.   Send 9 tokens from 'address3' to 'address2' using 1 token as a\n",
    "        transaction fee\n",
    "    \n",
    "   3.   Send 40 tokens from 'address1' and 20 tokens from 'address2' to\n",
    "        'address3', using 2 tokens as a transaction fee, 1 token from both inputs    \n",
    "   4.   A miner receives the first transaction (from Step 1) and\n",
    "        creates a Ex08Block with this transaction, along with some other\n",
    "        transactions (create at least 5 random, but valid transactions\n",
    "        using some OTHER addresses)    \n",
    "   5.   Add this new block to the Ex08Blockchain instance (Remember to\n",
    "        add the previous block hash).\n",
    "\n",
    "   6.   A miner receives the second transaction (from Step 2) and mines\n",
    "        this transaction along with some other transactions (create at\n",
    "        least 5 more transactions like in step 4)\n",
    "\n",
    "   7.   Add this new block to the Ex08Blockchain instance.\n",
    "    \n",
    "   8.   A miner receives the third transaction (from Step 3) and mines\n",
    "        this transaction along with some other transactions (create at\n",
    "        least 5 more transactions like in step 4 and 6)\n",
    "    \n",
    "Be sure to call Ex08Blockchain.add_block(..) after creating each\n",
    "block to simulate the mining process\n",
    "    \n",
    "Return the Ex08Blockchain instance"
   ],
   "metadata": {
    "collapsed": false
   },
   "id": "1da9b671007fd6b0"
  },
  {
   "cell_type": "code",
   "execution_count": null,
   "outputs": [],
   "source": [
    "def scenario() -> Ex08Blockchain:\n",
    "    pass"
   ],
   "metadata": {
    "collapsed": false
   },
   "id": "10417965b47b565e"
  }
 ],
 "metadata": {
  "kernelspec": {
   "display_name": "Python 3",
   "language": "python",
   "name": "python3"
  },
  "language_info": {
   "codemirror_mode": {
    "name": "ipython",
    "version": 2
   },
   "file_extension": ".py",
   "mimetype": "text/x-python",
   "name": "python",
   "nbconvert_exporter": "python",
   "pygments_lexer": "ipython2",
   "version": "2.7.6"
  }
 },
 "nbformat": 4,
 "nbformat_minor": 5
}
