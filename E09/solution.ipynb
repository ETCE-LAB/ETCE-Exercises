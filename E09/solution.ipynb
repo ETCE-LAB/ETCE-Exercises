{
 "cells": [
  {
   "cell_type": "code",
   "execution_count": 19,
   "id": "db5a72536d6bd272",
   "metadata": {
    "collapsed": false,
    "jupyter": {
     "outputs_hidden": false
    }
   },
   "outputs": [],
   "source": [
    "import ETCE.blockchain\n",
    "import hashlib\n",
    "import _hashlib"
   ]
  },
  {
   "cell_type": "markdown",
   "id": "eef398ed3a6820cd",
   "metadata": {
    "collapsed": false,
    "jupyter": {
     "outputs_hidden": false
    }
   },
   "source": [
    "Implement a Transaction Class by overriding the methods defined in \n",
    "ETCE.blockchain.Ex09Transaction, where indicated.\n",
    "\n",
    "Please read the additional instructions for all the functions of\n",
    "this class in `ETCE/blockchain.py`"
   ]
  },
  {
   "cell_type": "code",
   "execution_count": 20,
   "id": "87cc04a3cc1b7b6b",
   "metadata": {
    "collapsed": false,
    "jupyter": {
     "outputs_hidden": false
    }
   },
   "outputs": [],
   "source": [
    "class Ex09Transaction(ETCE.blockchain.Ex09Transaction):\n",
    "\n",
    "    def __init__(self):\n",
    "        super(Ex09Transaction, self).__init__()\n",
    "\n",
    "    def __str__(self) -> str:\n",
    "        pass\n",
    "\n",
    "    def hash(self) -> _hashlib.HASH:\n",
    "        pass"
   ]
  },
  {
   "cell_type": "markdown",
   "id": "8c342a95d0fb2c4d",
   "metadata": {
    "collapsed": false,
    "jupyter": {
     "outputs_hidden": false
    }
   },
   "source": [
    "Implement a Block Class by overriding the methods defined in ETCE.blockchain.Ex09Block"
   ]
  },
  {
   "cell_type": "code",
   "execution_count": 21,
   "id": "e7eefad5769fd888",
   "metadata": {
    "collapsed": false,
    "jupyter": {
     "outputs_hidden": false
    }
   },
   "outputs": [],
   "source": [
    "class Ex09Block(ETCE.blockchain.Ex09Block):\n",
    "    def __init__(self):\n",
    "        super(Ex09Block, self).__init__()\n",
    "\n",
    "    def __str__(self):\n",
    "        pass\n",
    "\n",
    "    def hash(self) -> _hashlib.HASH:\n",
    "        pass"
   ]
  },
  {
   "cell_type": "markdown",
   "id": "510b275f371c1444",
   "metadata": {
    "collapsed": false,
    "jupyter": {
     "outputs_hidden": false
    }
   },
   "source": [
    "Implement a Blockchain Class by overriding the methods defined in ETCE.blockchain.Ex09Blockchain"
   ]
  },
  {
   "cell_type": "code",
   "execution_count": 22,
   "id": "af4624de79a58329",
   "metadata": {
    "ExecuteTime": {
     "end_time": "2024-06-17T09:15:19.559951900Z",
     "start_time": "2024-06-17T09:15:19.487436200Z"
    },
    "collapsed": false,
    "jupyter": {
     "outputs_hidden": false
    }
   },
   "outputs": [],
   "source": [
    "class Ex09Blockchain(ETCE.blockchain.Ex09Blockchain):\n",
    "    def __init__(self, initial_block, addresses):\n",
    "        super(Ex09Blockchain, self).__init__(initial_block, addresses)\n",
    "\n",
    "\n",
    "    def validate_new_block(self, newblock) -> ( bool, dict ):\n",
    "        pass"
   ]
  },
  {
   "cell_type": "markdown",
   "id": "1da9b671007fd6b0",
   "metadata": {
    "collapsed": false,
    "jupyter": {
     "outputs_hidden": false
    }
   },
   "source": [
    "Create an instance of the ETCE.blockchain.Ex09Blockchain class,\n",
    "with some initial block with transactions that simply initialize ~\n",
    "5-10 addresses with some tokens. These transactions are assumed to\n",
    "be valid. You can use any random strings as the addresses, but the\n",
    "following addresses; 'address1', 'address2' and 'address3' must\n",
    "also exist in these transactions that can spend 100, 200, and 10\n",
    "tokens respectively.\n",
    "\n",
    "<span style=\"font-weight:bold\">Hint: A transaction with an empty list of inputs, with an output:\n",
    "    {\"address\" : \"addressXYZ\", \"amount\": 1000}, \n",
    "will allow the address \"addressXYZ\" to spend the tokens from this output.</span>\n",
    "\n",
    "Create valid ETCE.blockchain.Ex09Transactions (in the same order) for the following actions:\n",
    "\n",
    "   1.   Send 10 tokens from 'address1' to 'address3', using 1 token as\n",
    "        a transaction fee. (Transaction fee = Sum of inputs - Sum of\n",
    "        outputs; Simply spending 1 token less in the outputs implicitly\n",
    "        designates 1 token as the mining fee for this transaction)\n",
    "\n",
    "   2.   Send 9 tokens from 'address3' to 'address2' using 1 token as a\n",
    "        transaction fee\n",
    "    \n",
    "   3.   Send 40 tokens from 'address1' and 20 tokens from 'address2' to\n",
    "        'address3', using 2 tokens as a transaction fee, 1 token from both inputs    \n",
    "   4.   A miner receives the first transaction (from Step 1) and\n",
    "        creates a Ex09Block with this transaction, along with some other\n",
    "        transactions (create at least 5 random, but valid transactions\n",
    "        using some OTHER addresses)    \n",
    "   5.   Add this new block to the Ex09Blockchain instance (Remember to\n",
    "        add the previous block hash).\n",
    "\n",
    "   6.   A miner receives the second transaction (from Step 2) and mines\n",
    "        this transaction along with some other transactions (create at\n",
    "        least 5 more transactions like in step 4)\n",
    "\n",
    "   7.   Add this new block to the Ex09Blockchain instance.\n",
    "    \n",
    "   8.   A miner receives the third transaction (from Step 3) and mines\n",
    "        this transaction along with some other transactions (create at\n",
    "        least 5 more transactions like in step 4 and 6)\n",
    "    \n",
    "Be sure to call Ex09Blockchain.add_block(...) after creating each\n",
    "block to simulate the mining process\n",
    "    \n",
    "Return the Ex09Blockchain instance"
   ]
  },
  {
   "cell_type": "code",
   "execution_count": 23,
   "id": "10417965b47b565e",
   "metadata": {
    "ExecuteTime": {
     "end_time": "2024-06-17T08:45:28.163669500Z",
     "start_time": "2024-06-17T08:45:27.533128600Z"
    },
    "collapsed": false,
    "jupyter": {
     "outputs_hidden": false
    }
   },
   "outputs": [],
   "source": [
    "def scenario() -> Ex09Blockchain:\n",
    "    pass"
   ]
  },
  {
   "cell_type": "code",
   "execution_count": 24,
   "id": "37888f145dd4dffc",
   "metadata": {
    "collapsed": false,
    "jupyter": {
     "outputs_hidden": false
    }
   },
   "outputs": [
    {
     "name": "stdout",
     "output_type": "stream",
     "text": [
      "Could not get string representation, check Ex09Transaction.__str__\n",
      "Could not get string representation, check Ex09Transaction.__str__\n",
      "Could not get string representation, check Ex09Transaction.__str__\n",
      "Hashes are not valid _hashlib.HASH instances, check Ex09Transaction.hash\n",
      "Could not check block and transaction classes, this could be a bug. Please report.\n",
      "Could not check scenario\n",
      "Grade = 0%\n"
     ]
    },
    {
     "name": "stderr",
     "output_type": "stream",
     "text": [
      "Traceback (most recent call last):\n",
      "  File \"/home/jovyan/Test/asdasd/ETCE-Exercises/E09/driver.py\", line 20, in check_tx\n",
      "    str_rep1 = str(sample_tx)\n",
      "               ^^^^^^^^^^^^^^\n",
      "TypeError: __str__ returned non-string (type NoneType)\n",
      "Traceback (most recent call last):\n",
      "  File \"/home/jovyan/Test/asdasd/ETCE-Exercises/E09/driver.py\", line 35, in check_tx\n",
      "    str_rep2 = str(sample_tx)\n",
      "               ^^^^^^^^^^^^^^\n",
      "TypeError: __str__ returned non-string (type NoneType)\n",
      "Traceback (most recent call last):\n",
      "  File \"/home/jovyan/Test/asdasd/ETCE-Exercises/E09/driver.py\", line 50, in check_tx\n",
      "    str_rep3 = str(sample_tx)\n",
      "               ^^^^^^^^^^^^^^\n",
      "TypeError: __str__ returned non-string (type NoneType)\n",
      "Traceback (most recent call last):\n",
      "  File \"/home/jovyan/Test/asdasd/ETCE-Exercises/E09/driver.py\", line 64, in check_tx\n",
      "    if not (str_rep1 != str_rep2 != str_rep3):\n",
      "            ^^^^^^^^\n",
      "UnboundLocalError: cannot access local variable 'str_rep1' where it is not associated with a value\n",
      "Traceback (most recent call last):\n",
      "  File \"/home/jovyan/Test/asdasd/ETCE-Exercises/E09/driver.py\", line 80, in check_tx\n",
      "    if not (hash1.digest() != hash2.digest() != hash3.digest()):\n",
      "            ^^^^^^^^^^^^\n",
      "AttributeError: 'NoneType' object has no attribute 'digest'\n",
      "Traceback (most recent call last):\n",
      "  File \"/home/jovyan/Test/asdasd/ETCE-Exercises/E09/driver.py\", line 243, in check_solution\n",
      "    block_grades = check_block(t, b)\n",
      "                   ^^^^^^^^^^^^^^^^^\n",
      "  File \"/home/jovyan/Test/asdasd/ETCE-Exercises/E09/driver.py\", line 95, in check_block\n",
      "    sample_block.add_transaction(sample_tx)\n",
      "  File \"/home/jovyan/Test/asdasd/ETCE-Exercises/E09/ETCE/blockchain.py\", line 146, in add_transaction\n",
      "    self.transactions[transaction.hash().digest().hex()] = transaction\n",
      "                      ^^^^^^^^^^^^^^^^^^^^^^^^^\n",
      "AttributeError: 'NoneType' object has no attribute 'digest'\n",
      "Traceback (most recent call last):\n",
      "  File \"/home/jovyan/Test/asdasd/ETCE-Exercises/E09/driver.py\", line 249, in check_solution\n",
      "    scenario_grades = check_scenario(t, b, sc)\n",
      "                      ^^^^^^^^^^^^^^^^^^^^^^^^\n",
      "  File \"/home/jovyan/Test/asdasd/ETCE-Exercises/E09/driver.py\", line 165, in check_scenario\n",
      "    if len(blockchain.blocklist) != 4:\n",
      "           ^^^^^^^^^^^^^^^^^^^^\n",
      "AttributeError: 'NoneType' object has no attribute 'blocklist'\n"
     ]
    }
   ],
   "source": [
    "from driver import evaluate\n",
    "evaluate(Ex09Transaction, Ex09Block, Ex09Blockchain, scenario)"
   ]
  },
  {
   "cell_type": "code",
   "execution_count": null,
   "id": "9255bea9-cca4-45d6-a3ea-a486353f4818",
   "metadata": {},
   "outputs": [],
   "source": []
  }
 ],
 "metadata": {
  "kernelspec": {
   "display_name": "Python 3 (ipykernel)",
   "language": "python",
   "name": "python3"
  },
  "language_info": {
   "codemirror_mode": {
    "name": "ipython",
    "version": 3
   },
   "file_extension": ".py",
   "mimetype": "text/x-python",
   "name": "python",
   "nbconvert_exporter": "python",
   "pygments_lexer": "ipython3",
   "version": "3.11.7"
  }
 },
 "nbformat": 4,
 "nbformat_minor": 5
}
