{
 "cells": [
  {
   "cell_type": "code",
   "execution_count": null,
   "id": "initial_id",
   "metadata": {
    "collapsed": true
   },
   "outputs": [],
   "source": [
    "import ETCE\n",
    "import _hashlib\n",
    "import hashlib"
   ]
  },
  {
   "cell_type": "markdown",
   "source": [
    "### DO NOT IMPLEMENT THIS CLASS:"
   ],
   "metadata": {
    "collapsed": false
   },
   "id": "7c1069bcb753d633"
  },
  {
   "cell_type": "code",
   "execution_count": null,
   "outputs": [],
   "source": [
    "class Ex10Transaction(ETCE.blockchain.Ex10Transaction):\n",
    "\n",
    "    def __init__(self):\n",
    "        \"\"\"\n",
    "        DO NOT MAKE ANY CHANGES HERE\n",
    "        \"\"\"\n",
    "        super(Ex10Transaction, self).__init__()"
   ],
   "metadata": {
    "collapsed": false
   },
   "id": "cf50e0dc8ae0bb5d"
  },
  {
   "cell_type": "markdown",
   "source": [
    "Implement a Block Class by overriding the following methods."
   ],
   "metadata": {
    "collapsed": false
   },
   "id": "b477b548b4d76771"
  },
  {
   "cell_type": "code",
   "execution_count": null,
   "outputs": [],
   "source": [
    "class Ex10Block(ETCE.blockchain.Ex10Block):    \n",
    "    def __init__(self):\n",
    "        super(Ex10Block, self).__init__()\n",
    "\n",
    "    def compute_nonce(self):\n",
    "        \"\"\"Method that computes the proof of work.  Find the nonce that\n",
    "        satisfies the difficulty set in `self.difficulty` and set\n",
    "        `self.nonce`. Use `self.validate_nonce` to check if the\n",
    "        current nonce is correct\n",
    "        \n",
    "        IMPORTANT: Please search for nonces from the subset of\n",
    "        integers [0, 1, 2, 3, 4, .... ∞), incrementally, starting from\n",
    "        0.\n",
    "        \n",
    "        IMPLEMENT THIS METHOD\n",
    "\n",
    "        \"\"\"\n",
    "\n",
    "        pass\n",
    "\n",
    "    def validate_nonce(self) -> bool:\n",
    "        \"\"\"Method that checks whether `self.nonce` is correct w.r.t\n",
    "        `self.difficulty`\n",
    "        \n",
    "        Return True if first `d` bits of self.hash() are `0`,\n",
    "        where `d` = `self.difficulty`\n",
    "        \n",
    "        IMPLEMENT THIS METHOD\n",
    "\n",
    "        \"\"\"\n",
    "        pass"
   ],
   "metadata": {
    "collapsed": false
   },
   "id": "206fec35a5df1da2"
  },
  {
   "cell_type": "markdown",
   "source": [
    "You can add any methods to this class that you like, as long as\n",
    "you do not override the important methods."
   ],
   "metadata": {
    "collapsed": false
   },
   "id": "4a1a765f8883e7d1"
  },
  {
   "cell_type": "code",
   "execution_count": null,
   "outputs": [],
   "source": [
    "class Ex10Blockchain(ETCE.blockchain.Ex10Blockchain):\n",
    "\n",
    "    def __init__(self, initial_block):\n",
    "        \"\"\"\n",
    "        DO NOT OVERRIDE THIS METHOD\n",
    "        \"\"\"\n",
    "        super(Ex10Blockchain, self).__init__(initial_block)"
   ],
   "metadata": {
    "collapsed": false
   },
   "id": "1c52620dd56526d0"
  },
  {
   "cell_type": "markdown",
   "source": [
    "`difficulty1` : `int`\n",
    "`difficulty2` : `int`\n",
    "`difficulty3` : `int`\n",
    "`difficulty4` : `int`\n",
    "    \n",
    "You can use the same transactions created in Ex08, except for\n",
    "calling setting the difficulty and `compute_nonce()` where\n",
    "appropriate.\n",
    "\n",
    "Create an instance of the ETCE.blockchain.Ex09Blockchain class,\n",
    "with some initial block with transactions that simply initialize ~\n",
    "5-10 addresses with some tokens. These transactions\n",
    "are assumed to be valid.  Make sure that the addresses you created\n",
    "contain 'address1', 'address2' and 'address3' that hold 100, 200,\n",
    "and 10 tokens respectively.\n",
    "\n",
    "Create valid ETCE.blockchain.Ex09Transactions (in the same order) \n",
    "for the following actions:\n",
    "\n",
    "1. Send 10 tokens from 'address1' to 'address3', using 1 token\n",
    "    as a transaction fee.\n",
    "\n",
    "2. Send 9 tokens from 'address3' to 'address2' using 1 token as a\n",
    "    transaction fee\n",
    "    \n",
    "3. Send 40 tokens from 'address1' and 20 tokens from 'address2' to\n",
    "    'address3', using 2 tokens as a transaction fee, 1 token from both\n",
    "    inputs\n",
    "    \n",
    "4. A miner receives the first transaction and creates a Ex09Block\n",
    "    with this transactions, along with some other transactions (create\n",
    "    at least 5 random, but valid transactions using some OTHER\n",
    "    addresses). Set the block difficulty to `difficulty1` here,\n",
    "    compute the nonce, and set the previous block hash.\n",
    "    \n",
    "5. Add this new block to the Ex09Blockchain instance.\n",
    "\n",
    "6. A miner receives the second transaction from Step 2. and mines\n",
    "    this transaction along with some other transactions (create at\n",
    "    least 5 more transactions like in step 4). Use block difficulty\n",
    "    `difficulty2` here.\n",
    "\n",
    "7. Add this new block to the Ex09Blockchain instance.\n",
    "    \n",
    "8. A miner receives the third transaction from Step 3. and mines\n",
    "    this transaction along with some other transactions (create at\n",
    "    least 5 more transactions like in step 4 and 6). Use block\n",
    "    `difficulty3` here.\n",
    "    \n",
    "9. Another miner receives the same set of transactions as in\n",
    "    Step 8 and also mines a block simultaneously. However this miner\n",
    "    uses block difficulty `difficulty4.\n",
    "    \n",
    "    For step 9, initialize a second instance of Ex09Blockchain which\n",
    "    is exactly the same as the first instance, except for the last\n",
    "    block.\n",
    "    \n",
    "    Return a tuple containing both Ex09Blockchain instances, and also\n",
    "    the index (either 0 or 1) of the instance that represents the\n",
    "    \"longest chain\". For example, if BC1 and BC2 are your instances:\n",
    "    \n",
    "    `return (BC1, BC2), 1` if BC2 is the \"longer chain\"\n",
    "    \n",
    "    `difficulty1`, `difficulty2`, `difficulty3`, `difficulty4` are all\n",
    "    integer arguments."
   ],
   "metadata": {
    "collapsed": false
   },
   "id": "d23beaf7943c45c1"
  },
  {
   "cell_type": "code",
   "execution_count": null,
   "outputs": [],
   "source": [
    "def scenario(difficulty1,\n",
    "             difficulty2,\n",
    "             difficulty3,\n",
    "             difficulty4) -> ((Ex10Blockchain, Ex10Blockchain), int):\n",
    "    pass"
   ],
   "metadata": {
    "collapsed": false
   },
   "id": "90bd3d8b369cbcfc"
  }
 ],
 "metadata": {
  "kernelspec": {
   "display_name": "Python 3",
   "language": "python",
   "name": "python3"
  },
  "language_info": {
   "codemirror_mode": {
    "name": "ipython",
    "version": 2
   },
   "file_extension": ".py",
   "mimetype": "text/x-python",
   "name": "python",
   "nbconvert_exporter": "python",
   "pygments_lexer": "ipython2",
   "version": "2.7.6"
  }
 },
 "nbformat": 4,
 "nbformat_minor": 5
}
