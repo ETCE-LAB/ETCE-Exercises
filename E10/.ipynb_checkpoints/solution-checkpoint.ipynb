{
 "cells": [
  {
   "cell_type": "code",
   "execution_count": 2,
   "id": "initial_id",
   "metadata": {
    "ExecuteTime": {
     "end_time": "2024-06-24T05:54:58.527747400Z",
     "start_time": "2024-06-24T05:54:58.453843400Z"
    },
    "collapsed": true
   },
   "outputs": [],
   "source": [
    "import ETCE\n",
    "import _hashlib\n",
    "import hashlib"
   ]
  },
  {
   "cell_type": "markdown",
   "id": "7c1069bcb753d633",
   "metadata": {},
   "source": [
    "### DO NOT IMPLEMENT THIS CLASS:"
   ]
  },
  {
   "cell_type": "code",
   "execution_count": 3,
   "id": "cf50e0dc8ae0bb5d",
   "metadata": {
    "ExecuteTime": {
     "end_time": "2024-06-24T05:54:58.638854100Z",
     "start_time": "2024-06-24T05:54:58.463645600Z"
    }
   },
   "outputs": [
    {
     "ename": "AttributeError",
     "evalue": "module 'ETCE' has no attribute 'blockchain'",
     "output_type": "error",
     "traceback": [
      "\u001b[1;31m---------------------------------------------------------------------------\u001b[0m",
      "\u001b[1;31mAttributeError\u001b[0m                            Traceback (most recent call last)",
      "Cell \u001b[1;32mIn[3], line 1\u001b[0m\n\u001b[1;32m----> 1\u001b[0m \u001b[38;5;28;01mclass\u001b[39;00m \u001b[38;5;21;01mEx10Transaction\u001b[39;00m(\u001b[43mETCE\u001b[49m\u001b[38;5;241;43m.\u001b[39;49m\u001b[43mblockchain\u001b[49m\u001b[38;5;241m.\u001b[39mEx10Transaction):\n\u001b[0;32m      3\u001b[0m     \u001b[38;5;28;01mdef\u001b[39;00m \u001b[38;5;21m__init__\u001b[39m(\u001b[38;5;28mself\u001b[39m):\n\u001b[0;32m      4\u001b[0m \u001b[38;5;250m        \u001b[39m\u001b[38;5;124;03m\"\"\"\u001b[39;00m\n\u001b[0;32m      5\u001b[0m \u001b[38;5;124;03m        DO NOT MAKE ANY CHANGES HERE\u001b[39;00m\n\u001b[0;32m      6\u001b[0m \u001b[38;5;124;03m        \"\"\"\u001b[39;00m\n",
      "\u001b[1;31mAttributeError\u001b[0m: module 'ETCE' has no attribute 'blockchain'"
     ]
    }
   ],
   "source": [
    "class Ex10Transaction(ETCE.blockchain.Ex10Transaction):\n",
    "\n",
    "    def __init__(self):\n",
    "        \"\"\"\n",
    "        DO NOT MAKE ANY CHANGES HERE\n",
    "        \"\"\"\n",
    "        super(Ex10Transaction, self).__init__()"
   ]
  },
  {
   "cell_type": "markdown",
   "id": "b477b548b4d76771",
   "metadata": {},
   "source": [
    "Implement a Block Class by overriding the following methods."
   ]
  },
  {
   "cell_type": "code",
   "execution_count": null,
   "id": "206fec35a5df1da2",
   "metadata": {
    "ExecuteTime": {
     "start_time": "2024-06-24T05:54:58.501670600Z"
    }
   },
   "outputs": [],
   "source": [
    "class Ex10Block(ETCE.blockchain.Ex10Block):    \n",
    "    def __init__(self):\n",
    "        super(Ex10Block, self).__init__()\n",
    "\n",
    "    def compute_nonce(self):\n",
    "        \"\"\"Method that computes the proof of work.  Find the nonce that\n",
    "        satisfies the difficulty set in `self.difficulty` and set\n",
    "        `self.nonce`. Use `self.validate_nonce` to check if the\n",
    "        current nonce is correct\n",
    "        \n",
    "        IMPORTANT: Please search for nonces from the subset of\n",
    "        integers [0, 1, 2, 3, 4, .... ∞), incrementally, starting from\n",
    "        0.\n",
    "        \n",
    "        IMPLEMENT THIS METHOD\n",
    "\n",
    "        \"\"\"\n",
    "        def compute_nonce(self):\n",
    "            self.nonce = 0\n",
    "        while not self.validate_nonce():\n",
    "            self.nonce+=1\n",
    "\n",
    "    def validate_nonce(self) -> bool:\n",
    "        bit = 0\n",
    "        digest = self.hash().digest()\n",
    "        for i in range(self.difficulty):\n",
    "            while bit > 7:\n",
    "                digest = digest[1:]\n",
    "                bit -= 8\n",
    "            v = (digest[0] >> (7 - bit)) & 1\n",
    "            if v > 0:\n",
    "                return False\n",
    "            bit += 1\n",
    "        return True"
   ]
  },
  {
   "cell_type": "markdown",
   "id": "4a1a765f8883e7d1",
   "metadata": {},
   "source": [
    "You can add any methods to this class that you like, as long as\n",
    "you do not override the important methods."
   ]
  },
  {
   "cell_type": "code",
   "execution_count": null,
   "id": "1c52620dd56526d0",
   "metadata": {
    "ExecuteTime": {
     "start_time": "2024-06-24T05:54:58.502890600Z"
    }
   },
   "outputs": [],
   "source": [
    "class Ex10Blockchain(ETCE.blockchain.Ex10Blockchain):\n",
    "\n",
    "    def __init__(self, initial_block):\n",
    "        \"\"\"\n",
    "        DO NOT OVERRIDE THIS METHOD\n",
    "        \"\"\"\n",
    "        super(Ex10Blockchain, self).__init__(initial_block)\n",
    "    def wlength(self) -> int:\n",
    "        return sum([block.difficulty for block in self.blocklist[1:]])\n",
    "\n",
    "    def __lt__(self, other) -> bool:\n",
    "        return self.wlength() < other.wlength()\n",
    "\n",
    "    def __gt__(self, other):\n",
    "        return self.wlength() > other.wlength()"
   ]
  },
  {
   "cell_type": "markdown",
   "id": "d23beaf7943c45c1",
   "metadata": {},
   "source": [
    "`difficulty1` : `int`\n",
    "`difficulty2` : `int`\n",
    "`difficulty3` : `int`\n",
    "`difficulty4` : `int`\n",
    "    \n",
    "You can use the same transactions created in Ex08, except for\n",
    "calling setting the difficulty and `compute_nonce()` where\n",
    "appropriate.\n",
    "\n",
    "Create an instance of the ETCE.blockchain.Ex10Blockchain class,\n",
    "with some initial block with transactions that simply initialize ~\n",
    "5-10 addresses with some tokens. These transactions\n",
    "are assumed to be valid.  Make sure that the addresses you created\n",
    "contain 'address1', 'address2' and 'address3' that hold 100, 200,\n",
    "and 10 tokens respectively.\n",
    "\n",
    "Create valid ETCE.blockchain.Ex10Transactions (in the same order) \n",
    "for the following actions:\n",
    "\n",
    "1. Send 10 tokens from 'address1' to 'address3', using 1 token\n",
    "    as a transaction fee.\n",
    "\n",
    "2. Send 9 tokens from 'address3' to 'address2' using 1 token as a\n",
    "    transaction fee\n",
    "    \n",
    "3. Send 40 tokens from 'address1' and 20 tokens from 'address2' to\n",
    "    'address3', using 2 tokens as a transaction fee, 1 token from both\n",
    "    inputs\n",
    "    \n",
    "4. A miner receives the first transaction and creates a Ex09Block\n",
    "    with this transactions, along with some other transactions (create\n",
    "    at least 5 random, but valid transactions using some OTHER\n",
    "    addresses). Set the block difficulty to `difficulty1` here,\n",
    "    compute the nonce, and set the previous block hash.\n",
    "    \n",
    "5. Add this new block to the Ex09Blockchain instance.\n",
    "\n",
    "6. A miner receives the second transaction from Step 2. and mines\n",
    "    this transaction along with some other transactions (create at\n",
    "    least 5 more transactions like in step 4). Use block difficulty\n",
    "    `difficulty2` here.\n",
    "\n",
    "7. Add this new block to the Ex09Blockchain instance.\n",
    "    \n",
    "8. A miner receives the third transaction from Step 3. and mines\n",
    "    this transaction along with some other transactions (create at\n",
    "    least 5 more transactions like in step 4 and 6). Use block\n",
    "    `difficulty3` here.\n",
    "    \n",
    "9. Another miner receives the same set of transactions as in\n",
    "    Step 8 and also mines a block simultaneously. However this miner\n",
    "    uses block difficulty `difficulty4.\n",
    "    \n",
    "    For step 9, initialize a second instance of Ex10Blockchain which\n",
    "    is exactly the same as the first instance, except for the last\n",
    "    block.\n",
    "    \n",
    "    Return a tuple containing both Ex09Blockchain instances, and also\n",
    "    the index (either 0 or 1) of the instance that represents the\n",
    "    \"longest chain\". For example, if BC1 and BC2 are your instances:\n",
    "    \n",
    "    `return (BC1, BC2), 1` if BC2 is the \"longer chain\"\n",
    "    \n",
    "    `difficulty1`, `difficulty2`, `difficulty3`, `difficulty4` are all\n",
    "    integer arguments."
   ]
  },
  {
   "cell_type": "code",
   "execution_count": null,
   "id": "90bd3d8b369cbcfc",
   "metadata": {
    "ExecuteTime": {
     "start_time": "2024-06-24T05:54:58.505412200Z"
    }
   },
   "outputs": [],
   "source": [
    "def scenario(difficulty1,\n",
    "             difficulty2,\n",
    "             difficulty3,\n",
    "             difficulty4) -> ((Ex10Blockchain, Ex10Blockchain), int):\n",
    "    tx0 = Ex10Transaction()\n",
    "    #tx0.add_input(\"0x00000\", hashlib.sha256(b\"\")),\n",
    "    tx0.add_output(\"address1\", 100)\n",
    "    tx0.add_output(\"address2\", 200)\n",
    "    tx0.add_output(\"address3\", 10)\n",
    "\n",
    "    initial_block = Ex10Block()\n",
    "    initial_block.add_transaction(tx0)\n",
    "\n",
    "    bc = Ex10Blockchain(initial_block)\n",
    "    bc2 = Ex10Blockchain(initial_block)\n",
    "\n",
    "    tx1 = Ex10Transaction()\n",
    "    tx1.add_input(tx0.hash(), 0)\n",
    "    tx1.add_output(\"address3\", 10)\n",
    "    tx1.add_output(\"address1\", 89)\n",
    "\n",
    "    first_block = Ex10Block()\n",
    "    first_block.add_transaction(tx1)\n",
    "    first_block.previous_block_hash = bc.blocklist[-1].hash()\n",
    "    first_block.difficulty = difficulty1\n",
    "    first_block.compute_nonce()\n",
    "\n",
    "    bc.add_block(first_block)\n",
    "    bc2.add_block(first_block)\n",
    "\n",
    "    tx2 = Ex10Transaction()\n",
    "    tx2.add_input(tx1.hash(), 0)\n",
    "    tx2.add_output(\"address2\", 9)\n",
    "\n",
    "    second_block = Ex10Block()\n",
    "    second_block.add_transaction(tx2)\n",
    "    second_block.previous_block_hash = bc.blocklist[-1].hash()\n",
    "    second_block.difficulty = difficulty2\n",
    "    second_block.compute_nonce()\n",
    "\n",
    "    bc.add_block(second_block)\n",
    "    bc2.add_block(second_block)\n",
    "\n",
    "    tx3 = Ex10Transaction()\n",
    "    tx3.add_input(tx1.hash(), 1)\n",
    "    tx3.add_input(tx0.hash(), 1)\n",
    "    tx3.add_output(\"address3\", 60)\n",
    "    tx3.add_output(\"address1\", 48)\n",
    "    tx3.add_output(\"address2\", 179)\n",
    "\n",
    "    third_block = Ex10Block()\n",
    "    third_block_alt = Ex10Block()\n",
    "\n",
    "    third_block.add_transaction(tx3)\n",
    "    third_block_alt.add_transaction(tx3)\n",
    "\n",
    "    third_block.previous_block_hash = bc.blocklist[-1].hash()\n",
    "    third_block_alt.previous_block_hash = bc.blocklist[-1].hash()\n",
    "\n",
    "    third_block.difficulty = difficulty3\n",
    "    third_block_alt.difficulty = difficulty4\n",
    "\n",
    "    third_block.compute_nonce()\n",
    "    third_block_alt.compute_nonce()\n",
    "\n",
    "    bc.add_block(third_block)\n",
    "    bc2.add_block(third_block_alt)\n",
    "\n",
    "    return (bc, bc2), (0 if bc > bc2 else 1)"
   ]
  },
  {
   "cell_type": "code",
   "execution_count": null,
   "id": "bf2dc93dba12caa6",
   "metadata": {
    "ExecuteTime": {
     "start_time": "2024-06-24T05:54:58.505412200Z"
    }
   },
   "outputs": [],
   "source": [
    "from driver import evaluate\n",
    "evaluate(Ex10Transaction, Ex10Block, Ex10Blockchain, scenario)"
   ]
  },
  {
   "cell_type": "code",
   "execution_count": null,
   "id": "bdd09b516c8ff282",
   "metadata": {
    "ExecuteTime": {
     "start_time": "2024-06-24T05:54:58.505412200Z"
    }
   },
   "outputs": [],
   "source": []
  }
 ],
 "metadata": {
  "kernelspec": {
   "display_name": "Python 3 (ipykernel)",
   "language": "python",
   "name": "python3"
  },
  "language_info": {
   "codemirror_mode": {
    "name": "ipython",
    "version": 3
   },
   "file_extension": ".py",
   "mimetype": "text/x-python",
   "name": "python",
   "nbconvert_exporter": "python",
   "pygments_lexer": "ipython3",
   "version": "3.10.9"
  }
 },
 "nbformat": 4,
 "nbformat_minor": 5
}
